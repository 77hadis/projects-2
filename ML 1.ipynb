{
 "cells": [
  {
   "cell_type": "code",
   "execution_count": 1,
   "id": "af6f51f9",
   "metadata": {},
   "outputs": [],
   "source": [
    "import numpy as np\n",
    "import pandas as pd\n",
    "import sklearn.metrics as met\n",
    "import matplotlib.pyplot as plt\n",
    "import sklearn.model_selection as ms"
   ]
  },
  {
   "cell_type": "code",
   "execution_count": 2,
   "id": "d1d40df6",
   "metadata": {},
   "outputs": [],
   "source": [
    "df= pd.read_csv('Adult_TrainDataset.csv')\n",
    "df2= pd.read_csv('Adult_TestDataset.csv')"
   ]
  },
  {
   "cell_type": "code",
   "execution_count": 3,
   "id": "f546d9e1",
   "metadata": {
    "scrolled": true
   },
   "outputs": [],
   "source": [
    "#df"
   ]
  },
  {
   "cell_type": "code",
   "execution_count": 4,
   "id": "bf317a64",
   "metadata": {},
   "outputs": [],
   "source": [
    "#df2"
   ]
  },
  {
   "cell_type": "code",
   "execution_count": 5,
   "id": "dc40ea83",
   "metadata": {},
   "outputs": [
    {
     "data": {
      "text/html": [
       "<div>\n",
       "<style scoped>\n",
       "    .dataframe tbody tr th:only-of-type {\n",
       "        vertical-align: middle;\n",
       "    }\n",
       "\n",
       "    .dataframe tbody tr th {\n",
       "        vertical-align: top;\n",
       "    }\n",
       "\n",
       "    .dataframe thead th {\n",
       "        text-align: right;\n",
       "    }\n",
       "</style>\n",
       "<table border=\"1\" class=\"dataframe\">\n",
       "  <thead>\n",
       "    <tr style=\"text-align: right;\">\n",
       "      <th></th>\n",
       "      <th>Age</th>\n",
       "      <th>Final_Weight</th>\n",
       "      <th>Education-Number</th>\n",
       "      <th>Capital_Gain</th>\n",
       "      <th>Capital_Loss</th>\n",
       "      <th>Hours-Per-Week</th>\n",
       "    </tr>\n",
       "  </thead>\n",
       "  <tbody>\n",
       "    <tr>\n",
       "      <th>count</th>\n",
       "      <td>32561.000000</td>\n",
       "      <td>3.256100e+04</td>\n",
       "      <td>32561.000000</td>\n",
       "      <td>32561.000000</td>\n",
       "      <td>32561.000000</td>\n",
       "      <td>32561.000000</td>\n",
       "    </tr>\n",
       "    <tr>\n",
       "      <th>mean</th>\n",
       "      <td>38.581647</td>\n",
       "      <td>1.897784e+05</td>\n",
       "      <td>10.080679</td>\n",
       "      <td>1077.648844</td>\n",
       "      <td>87.303830</td>\n",
       "      <td>40.437456</td>\n",
       "    </tr>\n",
       "    <tr>\n",
       "      <th>std</th>\n",
       "      <td>13.640433</td>\n",
       "      <td>1.055500e+05</td>\n",
       "      <td>2.572720</td>\n",
       "      <td>7385.292085</td>\n",
       "      <td>402.960219</td>\n",
       "      <td>12.347429</td>\n",
       "    </tr>\n",
       "    <tr>\n",
       "      <th>min</th>\n",
       "      <td>17.000000</td>\n",
       "      <td>1.228500e+04</td>\n",
       "      <td>1.000000</td>\n",
       "      <td>0.000000</td>\n",
       "      <td>0.000000</td>\n",
       "      <td>1.000000</td>\n",
       "    </tr>\n",
       "    <tr>\n",
       "      <th>25%</th>\n",
       "      <td>28.000000</td>\n",
       "      <td>1.178270e+05</td>\n",
       "      <td>9.000000</td>\n",
       "      <td>0.000000</td>\n",
       "      <td>0.000000</td>\n",
       "      <td>40.000000</td>\n",
       "    </tr>\n",
       "    <tr>\n",
       "      <th>50%</th>\n",
       "      <td>37.000000</td>\n",
       "      <td>1.783560e+05</td>\n",
       "      <td>10.000000</td>\n",
       "      <td>0.000000</td>\n",
       "      <td>0.000000</td>\n",
       "      <td>40.000000</td>\n",
       "    </tr>\n",
       "    <tr>\n",
       "      <th>75%</th>\n",
       "      <td>48.000000</td>\n",
       "      <td>2.370510e+05</td>\n",
       "      <td>12.000000</td>\n",
       "      <td>0.000000</td>\n",
       "      <td>0.000000</td>\n",
       "      <td>45.000000</td>\n",
       "    </tr>\n",
       "    <tr>\n",
       "      <th>max</th>\n",
       "      <td>90.000000</td>\n",
       "      <td>1.484705e+06</td>\n",
       "      <td>16.000000</td>\n",
       "      <td>99999.000000</td>\n",
       "      <td>4356.000000</td>\n",
       "      <td>99.000000</td>\n",
       "    </tr>\n",
       "  </tbody>\n",
       "</table>\n",
       "</div>"
      ],
      "text/plain": [
       "                Age  Final_Weight  Education-Number  Capital_Gain  \\\n",
       "count  32561.000000  3.256100e+04      32561.000000  32561.000000   \n",
       "mean      38.581647  1.897784e+05         10.080679   1077.648844   \n",
       "std       13.640433  1.055500e+05          2.572720   7385.292085   \n",
       "min       17.000000  1.228500e+04          1.000000      0.000000   \n",
       "25%       28.000000  1.178270e+05          9.000000      0.000000   \n",
       "50%       37.000000  1.783560e+05         10.000000      0.000000   \n",
       "75%       48.000000  2.370510e+05         12.000000      0.000000   \n",
       "max       90.000000  1.484705e+06         16.000000  99999.000000   \n",
       "\n",
       "       Capital_Loss  Hours-Per-Week  \n",
       "count  32561.000000    32561.000000  \n",
       "mean      87.303830       40.437456  \n",
       "std      402.960219       12.347429  \n",
       "min        0.000000        1.000000  \n",
       "25%        0.000000       40.000000  \n",
       "50%        0.000000       40.000000  \n",
       "75%        0.000000       45.000000  \n",
       "max     4356.000000       99.000000  "
      ]
     },
     "execution_count": 5,
     "metadata": {},
     "output_type": "execute_result"
    }
   ],
   "source": [
    "df.describe()"
   ]
  },
  {
   "cell_type": "code",
   "execution_count": 6,
   "id": "327436d3",
   "metadata": {},
   "outputs": [
    {
     "data": {
      "text/html": [
       "<div>\n",
       "<style scoped>\n",
       "    .dataframe tbody tr th:only-of-type {\n",
       "        vertical-align: middle;\n",
       "    }\n",
       "\n",
       "    .dataframe tbody tr th {\n",
       "        vertical-align: top;\n",
       "    }\n",
       "\n",
       "    .dataframe thead th {\n",
       "        text-align: right;\n",
       "    }\n",
       "</style>\n",
       "<table border=\"1\" class=\"dataframe\">\n",
       "  <thead>\n",
       "    <tr style=\"text-align: right;\">\n",
       "      <th></th>\n",
       "      <th>Age</th>\n",
       "      <th>Final_Weight</th>\n",
       "      <th>Education-Number</th>\n",
       "      <th>Capital_Gain</th>\n",
       "      <th>Capital_Loss</th>\n",
       "      <th>Hours-Per-Week</th>\n",
       "    </tr>\n",
       "  </thead>\n",
       "  <tbody>\n",
       "    <tr>\n",
       "      <th>count</th>\n",
       "      <td>16281.000000</td>\n",
       "      <td>1.628100e+04</td>\n",
       "      <td>16281.000000</td>\n",
       "      <td>16281.000000</td>\n",
       "      <td>16281.000000</td>\n",
       "      <td>16281.000000</td>\n",
       "    </tr>\n",
       "    <tr>\n",
       "      <th>mean</th>\n",
       "      <td>38.767459</td>\n",
       "      <td>1.894357e+05</td>\n",
       "      <td>10.072907</td>\n",
       "      <td>1081.905104</td>\n",
       "      <td>87.899269</td>\n",
       "      <td>40.392236</td>\n",
       "    </tr>\n",
       "    <tr>\n",
       "      <th>std</th>\n",
       "      <td>13.849187</td>\n",
       "      <td>1.057149e+05</td>\n",
       "      <td>2.567545</td>\n",
       "      <td>7583.935968</td>\n",
       "      <td>403.105286</td>\n",
       "      <td>12.479332</td>\n",
       "    </tr>\n",
       "    <tr>\n",
       "      <th>min</th>\n",
       "      <td>17.000000</td>\n",
       "      <td>1.349200e+04</td>\n",
       "      <td>1.000000</td>\n",
       "      <td>0.000000</td>\n",
       "      <td>0.000000</td>\n",
       "      <td>1.000000</td>\n",
       "    </tr>\n",
       "    <tr>\n",
       "      <th>25%</th>\n",
       "      <td>28.000000</td>\n",
       "      <td>1.167360e+05</td>\n",
       "      <td>9.000000</td>\n",
       "      <td>0.000000</td>\n",
       "      <td>0.000000</td>\n",
       "      <td>40.000000</td>\n",
       "    </tr>\n",
       "    <tr>\n",
       "      <th>50%</th>\n",
       "      <td>37.000000</td>\n",
       "      <td>1.778310e+05</td>\n",
       "      <td>10.000000</td>\n",
       "      <td>0.000000</td>\n",
       "      <td>0.000000</td>\n",
       "      <td>40.000000</td>\n",
       "    </tr>\n",
       "    <tr>\n",
       "      <th>75%</th>\n",
       "      <td>48.000000</td>\n",
       "      <td>2.383840e+05</td>\n",
       "      <td>12.000000</td>\n",
       "      <td>0.000000</td>\n",
       "      <td>0.000000</td>\n",
       "      <td>45.000000</td>\n",
       "    </tr>\n",
       "    <tr>\n",
       "      <th>max</th>\n",
       "      <td>90.000000</td>\n",
       "      <td>1.490400e+06</td>\n",
       "      <td>16.000000</td>\n",
       "      <td>99999.000000</td>\n",
       "      <td>3770.000000</td>\n",
       "      <td>99.000000</td>\n",
       "    </tr>\n",
       "  </tbody>\n",
       "</table>\n",
       "</div>"
      ],
      "text/plain": [
       "                Age  Final_Weight  Education-Number  Capital_Gain  \\\n",
       "count  16281.000000  1.628100e+04      16281.000000  16281.000000   \n",
       "mean      38.767459  1.894357e+05         10.072907   1081.905104   \n",
       "std       13.849187  1.057149e+05          2.567545   7583.935968   \n",
       "min       17.000000  1.349200e+04          1.000000      0.000000   \n",
       "25%       28.000000  1.167360e+05          9.000000      0.000000   \n",
       "50%       37.000000  1.778310e+05         10.000000      0.000000   \n",
       "75%       48.000000  2.383840e+05         12.000000      0.000000   \n",
       "max       90.000000  1.490400e+06         16.000000  99999.000000   \n",
       "\n",
       "       Capital_Loss  Hours-Per-Week  \n",
       "count  16281.000000    16281.000000  \n",
       "mean      87.899269       40.392236  \n",
       "std      403.105286       12.479332  \n",
       "min        0.000000        1.000000  \n",
       "25%        0.000000       40.000000  \n",
       "50%        0.000000       40.000000  \n",
       "75%        0.000000       45.000000  \n",
       "max     3770.000000       99.000000  "
      ]
     },
     "execution_count": 6,
     "metadata": {},
     "output_type": "execute_result"
    }
   ],
   "source": [
    "df2.describe()"
   ]
  },
  {
   "cell_type": "code",
   "execution_count": 7,
   "id": "3193213d",
   "metadata": {},
   "outputs": [
    {
     "name": "stdout",
     "output_type": "stream",
     "text": [
      "<class 'pandas.core.frame.DataFrame'>\n",
      "RangeIndex: 32561 entries, 0 to 32560\n",
      "Data columns (total 15 columns):\n",
      " #   Column            Non-Null Count  Dtype \n",
      "---  ------            --------------  ----- \n",
      " 0   Age               32561 non-null  int64 \n",
      " 1   Work_Class        32561 non-null  object\n",
      " 2   Final_Weight      32561 non-null  int64 \n",
      " 3   Education         32561 non-null  object\n",
      " 4   Education-Number  32561 non-null  int64 \n",
      " 5   Marital_Status    32561 non-null  object\n",
      " 6   Occupation        32561 non-null  object\n",
      " 7   Relationship      32561 non-null  object\n",
      " 8   Race              32561 non-null  object\n",
      " 9   Sex               32561 non-null  object\n",
      " 10  Capital_Gain      32561 non-null  int64 \n",
      " 11  Capital_Loss      32561 non-null  int64 \n",
      " 12  Hours-Per-Week    32561 non-null  int64 \n",
      " 13  Native_Country    32561 non-null  object\n",
      " 14  Income            32561 non-null  object\n",
      "dtypes: int64(6), object(9)\n",
      "memory usage: 3.7+ MB\n"
     ]
    }
   ],
   "source": [
    "df.info()"
   ]
  },
  {
   "cell_type": "code",
   "execution_count": 8,
   "id": "d5caf1ef",
   "metadata": {},
   "outputs": [
    {
     "name": "stdout",
     "output_type": "stream",
     "text": [
      "<class 'pandas.core.frame.DataFrame'>\n",
      "RangeIndex: 16281 entries, 0 to 16280\n",
      "Data columns (total 15 columns):\n",
      " #   Column            Non-Null Count  Dtype \n",
      "---  ------            --------------  ----- \n",
      " 0   Age               16281 non-null  int64 \n",
      " 1   Work_Class        16281 non-null  object\n",
      " 2   Final_Weight      16281 non-null  int64 \n",
      " 3   Education         16281 non-null  object\n",
      " 4   Education-Number  16281 non-null  int64 \n",
      " 5   Marital_Status    16281 non-null  object\n",
      " 6   Occupation        16281 non-null  object\n",
      " 7   Relationship      16281 non-null  object\n",
      " 8   Race              16281 non-null  object\n",
      " 9   Sex               16281 non-null  object\n",
      " 10  Capital_Gain      16281 non-null  int64 \n",
      " 11  Capital_Loss      16281 non-null  int64 \n",
      " 12  Hours-Per-Week    16281 non-null  int64 \n",
      " 13  Native_Country    16281 non-null  object\n",
      " 14  Income            16281 non-null  object\n",
      "dtypes: int64(6), object(9)\n",
      "memory usage: 1.9+ MB\n"
     ]
    }
   ],
   "source": [
    "df2.info()"
   ]
  },
  {
   "cell_type": "code",
   "execution_count": 9,
   "id": "9c332cad",
   "metadata": {},
   "outputs": [
    {
     "data": {
      "image/png": "[encoded data removed]",
      "text/plain": [
       "<Figure size 1800x720 with 2 Axes>"
      ]
     },
     "metadata": {
      "needs_background": "light"
     },
     "output_type": "display_data"
    },
    {
     "data": {
      "text/plain": [
       "<Figure size 432x288 with 0 Axes>"
      ]
     },
     "metadata": {},
     "output_type": "display_data"
    }
   ],
   "source": [
    "import missingno as msno\n",
    "msno.matrix(df)\n",
    "plt.figure()\n",
    "plt.show()"
   ]
  },
  {
   "cell_type": "code",
   "execution_count": 10,
   "id": "5356d2e9",
   "metadata": {},
   "outputs": [],
   "source": [
    "df = df.replace (' ?' , np.nan)\n",
    "df2 = df2.replace (' ?' , np.nan)"
   ]
  },
  {
   "cell_type": "code",
   "execution_count": 11,
   "id": "53edaa77",
   "metadata": {},
   "outputs": [
    {
     "data": {
      "image/png": "[encoded data removed]",
      "text/plain": [
       "<Figure size 1800x720 with 2 Axes>"
      ]
     },
     "metadata": {
      "needs_background": "light"
     },
     "output_type": "display_data"
    },
    {
     "data": {
      "text/plain": [
       "<Figure size 432x288 with 0 Axes>"
      ]
     },
     "metadata": {},
     "output_type": "display_data"
    }
   ],
   "source": [
    "msno.matrix(df)\n",
    "plt.figure()\n",
    "plt.show()"
   ]
  },
  {
   "cell_type": "code",
   "execution_count": 12,
   "id": "58bff62a",
   "metadata": {},
   "outputs": [],
   "source": [
    "count_nan = len(df) - df.count()\n",
    "#count_nan"
   ]
  },
  {
   "cell_type": "code",
   "execution_count": 13,
   "id": "611fe622",
   "metadata": {},
   "outputs": [],
   "source": [
    "from sklearn.preprocessing import LabelEncoder, OneHotEncoder\n",
    "from sklearn.compose import ColumnTransformer\n",
    "from sklearn.impute import SimpleImputer"
   ]
  },
  {
   "cell_type": "code",
   "execution_count": 14,
   "id": "ad1db90e",
   "metadata": {},
   "outputs": [],
   "source": [
    "#label_encoder = LabelEncoder()\n",
    "#imputerw = df.Work_Class\n",
    "#imputerw = label_encoder.fit_transform(imputerw)\n",
    "#imputerw[0:65]"
   ]
  },
  {
   "cell_type": "code",
   "execution_count": 15,
   "id": "f32abcfe",
   "metadata": {
    "scrolled": true
   },
   "outputs": [],
   "source": [
    "#imp_mean = SimpleImputer(missing_values=np.nan, strategy='mean')\n",
    "#imp_mean.fit([df])\n",
    "#SimpleImputer()\n",
    "#X = [[np.nan, 2, 3], [4, np.nan, 6], [10, np.nan, 9]]\n",
    "#print(imp_mean.transform(X))"
   ]
  },
  {
   "cell_type": "code",
   "execution_count": 16,
   "id": "832e8d04",
   "metadata": {},
   "outputs": [
    {
     "data": {
      "text/html": [
       "<div>\n",
       "<style scoped>\n",
       "    .dataframe tbody tr th:only-of-type {\n",
       "        vertical-align: middle;\n",
       "    }\n",
       "\n",
       "    .dataframe tbody tr th {\n",
       "        vertical-align: top;\n",
       "    }\n",
       "\n",
       "    .dataframe thead th {\n",
       "        text-align: right;\n",
       "    }\n",
       "</style>\n",
       "<table border=\"1\" class=\"dataframe\">\n",
       "  <thead>\n",
       "    <tr style=\"text-align: right;\">\n",
       "      <th></th>\n",
       "      <th>Age</th>\n",
       "      <th>Work_Class</th>\n",
       "      <th>Final_Weight</th>\n",
       "      <th>Education-Number</th>\n",
       "      <th>Occupation</th>\n",
       "      <th>Capital_Gain</th>\n",
       "      <th>Capital_Loss</th>\n",
       "      <th>Hours-Per-Week</th>\n",
       "      <th>Native_Country</th>\n",
       "    </tr>\n",
       "  </thead>\n",
       "  <tbody>\n",
       "    <tr>\n",
       "      <th>count</th>\n",
       "      <td>32561.000000</td>\n",
       "      <td>32561.000000</td>\n",
       "      <td>3.256100e+04</td>\n",
       "      <td>32561.000000</td>\n",
       "      <td>32561.000000</td>\n",
       "      <td>32561.000000</td>\n",
       "      <td>32561.000000</td>\n",
       "      <td>32561.000000</td>\n",
       "      <td>32561.000000</td>\n",
       "    </tr>\n",
       "    <tr>\n",
       "      <th>mean</th>\n",
       "      <td>38.581647</td>\n",
       "      <td>3.376371</td>\n",
       "      <td>1.897784e+05</td>\n",
       "      <td>10.080679</td>\n",
       "      <td>6.421762</td>\n",
       "      <td>1077.648844</td>\n",
       "      <td>87.303830</td>\n",
       "      <td>40.437456</td>\n",
       "      <td>36.470870</td>\n",
       "    </tr>\n",
       "    <tr>\n",
       "      <th>std</th>\n",
       "      <td>13.640433</td>\n",
       "      <td>1.582038</td>\n",
       "      <td>1.055500e+05</td>\n",
       "      <td>2.572720</td>\n",
       "      <td>4.328619</td>\n",
       "      <td>7385.292085</td>\n",
       "      <td>402.960219</td>\n",
       "      <td>12.347429</td>\n",
       "      <td>6.083092</td>\n",
       "    </tr>\n",
       "    <tr>\n",
       "      <th>min</th>\n",
       "      <td>17.000000</td>\n",
       "      <td>0.000000</td>\n",
       "      <td>1.228500e+04</td>\n",
       "      <td>1.000000</td>\n",
       "      <td>0.000000</td>\n",
       "      <td>0.000000</td>\n",
       "      <td>0.000000</td>\n",
       "      <td>1.000000</td>\n",
       "      <td>0.000000</td>\n",
       "    </tr>\n",
       "    <tr>\n",
       "      <th>25%</th>\n",
       "      <td>28.000000</td>\n",
       "      <td>3.000000</td>\n",
       "      <td>1.178270e+05</td>\n",
       "      <td>9.000000</td>\n",
       "      <td>3.000000</td>\n",
       "      <td>0.000000</td>\n",
       "      <td>0.000000</td>\n",
       "      <td>40.000000</td>\n",
       "      <td>38.000000</td>\n",
       "    </tr>\n",
       "    <tr>\n",
       "      <th>50%</th>\n",
       "      <td>37.000000</td>\n",
       "      <td>3.000000</td>\n",
       "      <td>1.783560e+05</td>\n",
       "      <td>10.000000</td>\n",
       "      <td>6.000000</td>\n",
       "      <td>0.000000</td>\n",
       "      <td>0.000000</td>\n",
       "      <td>40.000000</td>\n",
       "      <td>38.000000</td>\n",
       "    </tr>\n",
       "    <tr>\n",
       "      <th>75%</th>\n",
       "      <td>48.000000</td>\n",
       "      <td>3.000000</td>\n",
       "      <td>2.370510e+05</td>\n",
       "      <td>12.000000</td>\n",
       "      <td>10.000000</td>\n",
       "      <td>0.000000</td>\n",
       "      <td>0.000000</td>\n",
       "      <td>45.000000</td>\n",
       "      <td>38.000000</td>\n",
       "    </tr>\n",
       "    <tr>\n",
       "      <th>max</th>\n",
       "      <td>90.000000</td>\n",
       "      <td>8.000000</td>\n",
       "      <td>1.484705e+06</td>\n",
       "      <td>16.000000</td>\n",
       "      <td>14.000000</td>\n",
       "      <td>99999.000000</td>\n",
       "      <td>4356.000000</td>\n",
       "      <td>99.000000</td>\n",
       "      <td>41.000000</td>\n",
       "    </tr>\n",
       "  </tbody>\n",
       "</table>\n",
       "</div>"
      ],
      "text/plain": [
       "                Age    Work_Class  Final_Weight  Education-Number  \\\n",
       "count  32561.000000  32561.000000  3.256100e+04      32561.000000   \n",
       "mean      38.581647      3.376371  1.897784e+05         10.080679   \n",
       "std       13.640433      1.582038  1.055500e+05          2.572720   \n",
       "min       17.000000      0.000000  1.228500e+04          1.000000   \n",
       "25%       28.000000      3.000000  1.178270e+05          9.000000   \n",
       "50%       37.000000      3.000000  1.783560e+05         10.000000   \n",
       "75%       48.000000      3.000000  2.370510e+05         12.000000   \n",
       "max       90.000000      8.000000  1.484705e+06         16.000000   \n",
       "\n",
       "         Occupation  Capital_Gain  Capital_Loss  Hours-Per-Week  \\\n",
       "count  32561.000000  32561.000000  32561.000000    32561.000000   \n",
       "mean       6.421762   1077.648844     87.303830       40.437456   \n",
       "std        4.328619   7385.292085    402.960219       12.347429   \n",
       "min        0.000000      0.000000      0.000000        1.000000   \n",
       "25%        3.000000      0.000000      0.000000       40.000000   \n",
       "50%        6.000000      0.000000      0.000000       40.000000   \n",
       "75%       10.000000      0.000000      0.000000       45.000000   \n",
       "max       14.000000  99999.000000   4356.000000       99.000000   \n",
       "\n",
       "       Native_Country  \n",
       "count    32561.000000  \n",
       "mean        36.470870  \n",
       "std          6.083092  \n",
       "min          0.000000  \n",
       "25%         38.000000  \n",
       "50%         38.000000  \n",
       "75%         38.000000  \n",
       "max         41.000000  "
      ]
     },
     "execution_count": 16,
     "metadata": {},
     "output_type": "execute_result"
    }
   ],
   "source": [
    "#imputer = SimpleImputer(missing_values = np.nan, strategy = \"mean\")\n",
    "#imputer.fit(df.Work_Class)\n",
    "#SimpleImputer()\n",
    "#X = [[np.nan, 2, 3], [4, np.nan, 6], [10, np.nan, 9]]\n",
    "#print(imp_mean.transform(X))\n",
    "#missing_values = np.nan\n",
    "\n",
    "cols = ['Work_Class', 'Occupation', 'Native_Country']\n",
    "#\n",
    "# Encode labels of multiple columns at once\n",
    "#\n",
    "df[cols] = df[cols].apply(LabelEncoder().fit_transform)\n",
    "df2[cols] = df2[cols].apply(LabelEncoder().fit_transform)\n",
    "#\n",
    "#\n",
    "#\n",
    "df2.head(5)\n",
    "df.describe()"
   ]
  },
  {
   "cell_type": "code",
   "execution_count": 17,
   "id": "e3049692",
   "metadata": {},
   "outputs": [
    {
     "data": {
      "text/html": [
       "<div>\n",
       "<style scoped>\n",
       "    .dataframe tbody tr th:only-of-type {\n",
       "        vertical-align: middle;\n",
       "    }\n",
       "\n",
       "    .dataframe tbody tr th {\n",
       "        vertical-align: top;\n",
       "    }\n",
       "\n",
       "    .dataframe thead th {\n",
       "        text-align: right;\n",
       "    }\n",
       "</style>\n",
       "<table border=\"1\" class=\"dataframe\">\n",
       "  <thead>\n",
       "    <tr style=\"text-align: right;\">\n",
       "      <th></th>\n",
       "      <th>Age</th>\n",
       "      <th>Work_Class</th>\n",
       "      <th>Final_Weight</th>\n",
       "      <th>Education</th>\n",
       "      <th>Education-Number</th>\n",
       "      <th>Marital_Status</th>\n",
       "      <th>Occupation</th>\n",
       "      <th>Relationship</th>\n",
       "      <th>Race</th>\n",
       "      <th>Sex</th>\n",
       "      <th>Capital_Gain</th>\n",
       "      <th>Capital_Loss</th>\n",
       "      <th>Hours-Per-Week</th>\n",
       "      <th>Native_Country</th>\n",
       "      <th>Income</th>\n",
       "    </tr>\n",
       "  </thead>\n",
       "  <tbody>\n",
       "    <tr>\n",
       "      <th>0</th>\n",
       "      <td>39</td>\n",
       "      <td>6.0</td>\n",
       "      <td>77516</td>\n",
       "      <td>Bachelors</td>\n",
       "      <td>13</td>\n",
       "      <td>Never-married</td>\n",
       "      <td>0</td>\n",
       "      <td>Not-in-family</td>\n",
       "      <td>White</td>\n",
       "      <td>Male</td>\n",
       "      <td>2174</td>\n",
       "      <td>0</td>\n",
       "      <td>40</td>\n",
       "      <td>38</td>\n",
       "      <td>&lt;=50K</td>\n",
       "    </tr>\n",
       "    <tr>\n",
       "      <th>1</th>\n",
       "      <td>50</td>\n",
       "      <td>5.0</td>\n",
       "      <td>83311</td>\n",
       "      <td>Bachelors</td>\n",
       "      <td>13</td>\n",
       "      <td>Married-civ-spouse</td>\n",
       "      <td>3</td>\n",
       "      <td>Husband</td>\n",
       "      <td>White</td>\n",
       "      <td>Male</td>\n",
       "      <td>0</td>\n",
       "      <td>0</td>\n",
       "      <td>13</td>\n",
       "      <td>38</td>\n",
       "      <td>&lt;=50K</td>\n",
       "    </tr>\n",
       "    <tr>\n",
       "      <th>2</th>\n",
       "      <td>38</td>\n",
       "      <td>3.0</td>\n",
       "      <td>215646</td>\n",
       "      <td>HS-grad</td>\n",
       "      <td>9</td>\n",
       "      <td>Divorced</td>\n",
       "      <td>5</td>\n",
       "      <td>Not-in-family</td>\n",
       "      <td>White</td>\n",
       "      <td>Male</td>\n",
       "      <td>0</td>\n",
       "      <td>0</td>\n",
       "      <td>40</td>\n",
       "      <td>38</td>\n",
       "      <td>&lt;=50K</td>\n",
       "    </tr>\n",
       "    <tr>\n",
       "      <th>3</th>\n",
       "      <td>53</td>\n",
       "      <td>3.0</td>\n",
       "      <td>234721</td>\n",
       "      <td>11th</td>\n",
       "      <td>7</td>\n",
       "      <td>Married-civ-spouse</td>\n",
       "      <td>5</td>\n",
       "      <td>Husband</td>\n",
       "      <td>Black</td>\n",
       "      <td>Male</td>\n",
       "      <td>0</td>\n",
       "      <td>0</td>\n",
       "      <td>40</td>\n",
       "      <td>38</td>\n",
       "      <td>&lt;=50K</td>\n",
       "    </tr>\n",
       "    <tr>\n",
       "      <th>4</th>\n",
       "      <td>28</td>\n",
       "      <td>3.0</td>\n",
       "      <td>338409</td>\n",
       "      <td>Bachelors</td>\n",
       "      <td>13</td>\n",
       "      <td>Married-civ-spouse</td>\n",
       "      <td>9</td>\n",
       "      <td>Wife</td>\n",
       "      <td>Black</td>\n",
       "      <td>Female</td>\n",
       "      <td>0</td>\n",
       "      <td>0</td>\n",
       "      <td>40</td>\n",
       "      <td>4</td>\n",
       "      <td>&lt;=50K</td>\n",
       "    </tr>\n",
       "  </tbody>\n",
       "</table>\n",
       "</div>"
      ],
      "text/plain": [
       "   Age  Work_Class  Final_Weight   Education  Education-Number  \\\n",
       "0   39         6.0         77516   Bachelors                13   \n",
       "1   50         5.0         83311   Bachelors                13   \n",
       "2   38         3.0        215646     HS-grad                 9   \n",
       "3   53         3.0        234721        11th                 7   \n",
       "4   28         3.0        338409   Bachelors                13   \n",
       "\n",
       "        Marital_Status  Occupation    Relationship    Race      Sex  \\\n",
       "0        Never-married           0   Not-in-family   White     Male   \n",
       "1   Married-civ-spouse           3         Husband   White     Male   \n",
       "2             Divorced           5   Not-in-family   White     Male   \n",
       "3   Married-civ-spouse           5         Husband   Black     Male   \n",
       "4   Married-civ-spouse           9            Wife   Black   Female   \n",
       "\n",
       "   Capital_Gain  Capital_Loss  Hours-Per-Week  Native_Country  Income  \n",
       "0          2174             0              40              38   <=50K  \n",
       "1             0             0              13              38   <=50K  \n",
       "2             0             0              40              38   <=50K  \n",
       "3             0             0              40              38   <=50K  \n",
       "4             0             0              40               4   <=50K  "
      ]
     },
     "execution_count": 17,
     "metadata": {},
     "output_type": "execute_result"
    }
   ],
   "source": [
    "from sklearn.impute import SimpleImputer\n",
    "\n",
    "# Imputer object using the mean strategy and\n",
    "# missing_values type for imputation\n",
    "\n",
    "imputer = SimpleImputer(missing_values = 8 ,strategy ='mean')\n",
    " \n",
    "# Fitting the data to the imputer object\n",
    "#df.Work_Class = imputer.fit_transform(df['Work_Class'].values.reshape(-1,1))[:,0]\n",
    "\n",
    "df.Work_Class = imputer.fit_transform(df['Work_Class'].values.reshape(-1,1))\n",
    "df2.Work_Class = imputer.fit_transform(df2['Work_Class'].values.reshape(-1,1))\n",
    "\n",
    "#df.Occupation = imputer.fit_transform(df['Occupation'].values.reshape(-1,1))\n",
    "#preprocessor = (SimpleImputer(missing_values = 8,strategy='mode', fill_value=-1), numerical_cols)\n",
    "# Imputing the data    \n",
    "#data = imputer.transform(data)\n",
    "\n",
    "df.head()"
   ]
  },
  {
   "cell_type": "code",
   "execution_count": 18,
   "id": "3a100ba7",
   "metadata": {},
   "outputs": [
    {
     "data": {
      "text/html": [
       "<div>\n",
       "<style scoped>\n",
       "    .dataframe tbody tr th:only-of-type {\n",
       "        vertical-align: middle;\n",
       "    }\n",
       "\n",
       "    .dataframe tbody tr th {\n",
       "        vertical-align: top;\n",
       "    }\n",
       "\n",
       "    .dataframe thead th {\n",
       "        text-align: right;\n",
       "    }\n",
       "</style>\n",
       "<table border=\"1\" class=\"dataframe\">\n",
       "  <thead>\n",
       "    <tr style=\"text-align: right;\">\n",
       "      <th></th>\n",
       "      <th>Age</th>\n",
       "      <th>Work_Class</th>\n",
       "      <th>Final_Weight</th>\n",
       "      <th>Education</th>\n",
       "      <th>Education-Number</th>\n",
       "      <th>Marital_Status</th>\n",
       "      <th>Occupation</th>\n",
       "      <th>Relationship</th>\n",
       "      <th>Race</th>\n",
       "      <th>Sex</th>\n",
       "      <th>Capital_Gain</th>\n",
       "      <th>Capital_Loss</th>\n",
       "      <th>Hours-Per-Week</th>\n",
       "      <th>Native_Country</th>\n",
       "      <th>Income</th>\n",
       "    </tr>\n",
       "  </thead>\n",
       "  <tbody>\n",
       "    <tr>\n",
       "      <th>0</th>\n",
       "      <td>39</td>\n",
       "      <td>6.0</td>\n",
       "      <td>77516</td>\n",
       "      <td>Bachelors</td>\n",
       "      <td>13</td>\n",
       "      <td>Never-married</td>\n",
       "      <td>0.0</td>\n",
       "      <td>Not-in-family</td>\n",
       "      <td>White</td>\n",
       "      <td>Male</td>\n",
       "      <td>2174</td>\n",
       "      <td>0</td>\n",
       "      <td>40</td>\n",
       "      <td>38</td>\n",
       "      <td>&lt;=50K</td>\n",
       "    </tr>\n",
       "    <tr>\n",
       "      <th>1</th>\n",
       "      <td>50</td>\n",
       "      <td>5.0</td>\n",
       "      <td>83311</td>\n",
       "      <td>Bachelors</td>\n",
       "      <td>13</td>\n",
       "      <td>Married-civ-spouse</td>\n",
       "      <td>3.0</td>\n",
       "      <td>Husband</td>\n",
       "      <td>White</td>\n",
       "      <td>Male</td>\n",
       "      <td>0</td>\n",
       "      <td>0</td>\n",
       "      <td>13</td>\n",
       "      <td>38</td>\n",
       "      <td>&lt;=50K</td>\n",
       "    </tr>\n",
       "    <tr>\n",
       "      <th>2</th>\n",
       "      <td>38</td>\n",
       "      <td>3.0</td>\n",
       "      <td>215646</td>\n",
       "      <td>HS-grad</td>\n",
       "      <td>9</td>\n",
       "      <td>Divorced</td>\n",
       "      <td>5.0</td>\n",
       "      <td>Not-in-family</td>\n",
       "      <td>White</td>\n",
       "      <td>Male</td>\n",
       "      <td>0</td>\n",
       "      <td>0</td>\n",
       "      <td>40</td>\n",
       "      <td>38</td>\n",
       "      <td>&lt;=50K</td>\n",
       "    </tr>\n",
       "    <tr>\n",
       "      <th>3</th>\n",
       "      <td>53</td>\n",
       "      <td>3.0</td>\n",
       "      <td>234721</td>\n",
       "      <td>11th</td>\n",
       "      <td>7</td>\n",
       "      <td>Married-civ-spouse</td>\n",
       "      <td>5.0</td>\n",
       "      <td>Husband</td>\n",
       "      <td>Black</td>\n",
       "      <td>Male</td>\n",
       "      <td>0</td>\n",
       "      <td>0</td>\n",
       "      <td>40</td>\n",
       "      <td>38</td>\n",
       "      <td>&lt;=50K</td>\n",
       "    </tr>\n",
       "    <tr>\n",
       "      <th>4</th>\n",
       "      <td>28</td>\n",
       "      <td>3.0</td>\n",
       "      <td>338409</td>\n",
       "      <td>Bachelors</td>\n",
       "      <td>13</td>\n",
       "      <td>Married-civ-spouse</td>\n",
       "      <td>9.0</td>\n",
       "      <td>Wife</td>\n",
       "      <td>Black</td>\n",
       "      <td>Female</td>\n",
       "      <td>0</td>\n",
       "      <td>0</td>\n",
       "      <td>40</td>\n",
       "      <td>4</td>\n",
       "      <td>&lt;=50K</td>\n",
       "    </tr>\n",
       "  </tbody>\n",
       "</table>\n",
       "</div>"
      ],
      "text/plain": [
       "   Age  Work_Class  Final_Weight   Education  Education-Number  \\\n",
       "0   39         6.0         77516   Bachelors                13   \n",
       "1   50         5.0         83311   Bachelors                13   \n",
       "2   38         3.0        215646     HS-grad                 9   \n",
       "3   53         3.0        234721        11th                 7   \n",
       "4   28         3.0        338409   Bachelors                13   \n",
       "\n",
       "        Marital_Status  Occupation    Relationship    Race      Sex  \\\n",
       "0        Never-married         0.0   Not-in-family   White     Male   \n",
       "1   Married-civ-spouse         3.0         Husband   White     Male   \n",
       "2             Divorced         5.0   Not-in-family   White     Male   \n",
       "3   Married-civ-spouse         5.0         Husband   Black     Male   \n",
       "4   Married-civ-spouse         9.0            Wife   Black   Female   \n",
       "\n",
       "   Capital_Gain  Capital_Loss  Hours-Per-Week  Native_Country  Income  \n",
       "0          2174             0              40              38   <=50K  \n",
       "1             0             0              13              38   <=50K  \n",
       "2             0             0              40              38   <=50K  \n",
       "3             0             0              40              38   <=50K  \n",
       "4             0             0              40               4   <=50K  "
      ]
     },
     "execution_count": 18,
     "metadata": {},
     "output_type": "execute_result"
    }
   ],
   "source": [
    "imputer = SimpleImputer(missing_values = 14,strategy ='mean')\n",
    "df.Occupation = imputer.fit_transform(df['Occupation'].values.reshape(-1,1))\n",
    "df2.Occupation = imputer.fit_transform(df2['Occupation'].values.reshape(-1,1))\n",
    "df.head()"
   ]
  },
  {
   "cell_type": "code",
   "execution_count": 19,
   "id": "410fa79d",
   "metadata": {},
   "outputs": [
    {
     "data": {
      "text/html": [
       "<div>\n",
       "<style scoped>\n",
       "    .dataframe tbody tr th:only-of-type {\n",
       "        vertical-align: middle;\n",
       "    }\n",
       "\n",
       "    .dataframe tbody tr th {\n",
       "        vertical-align: top;\n",
       "    }\n",
       "\n",
       "    .dataframe thead th {\n",
       "        text-align: right;\n",
       "    }\n",
       "</style>\n",
       "<table border=\"1\" class=\"dataframe\">\n",
       "  <thead>\n",
       "    <tr style=\"text-align: right;\">\n",
       "      <th></th>\n",
       "      <th>Age</th>\n",
       "      <th>Work_Class</th>\n",
       "      <th>Final_Weight</th>\n",
       "      <th>Education</th>\n",
       "      <th>Education-Number</th>\n",
       "      <th>Marital_Status</th>\n",
       "      <th>Occupation</th>\n",
       "      <th>Relationship</th>\n",
       "      <th>Race</th>\n",
       "      <th>Sex</th>\n",
       "      <th>Capital_Gain</th>\n",
       "      <th>Capital_Loss</th>\n",
       "      <th>Hours-Per-Week</th>\n",
       "      <th>Native_Country</th>\n",
       "      <th>Income</th>\n",
       "    </tr>\n",
       "  </thead>\n",
       "  <tbody>\n",
       "    <tr>\n",
       "      <th>0</th>\n",
       "      <td>39</td>\n",
       "      <td>6.0</td>\n",
       "      <td>77516</td>\n",
       "      <td>Bachelors</td>\n",
       "      <td>13</td>\n",
       "      <td>Never-married</td>\n",
       "      <td>0.0</td>\n",
       "      <td>Not-in-family</td>\n",
       "      <td>White</td>\n",
       "      <td>Male</td>\n",
       "      <td>2174</td>\n",
       "      <td>0</td>\n",
       "      <td>40</td>\n",
       "      <td>38.0</td>\n",
       "      <td>&lt;=50K</td>\n",
       "    </tr>\n",
       "    <tr>\n",
       "      <th>1</th>\n",
       "      <td>50</td>\n",
       "      <td>5.0</td>\n",
       "      <td>83311</td>\n",
       "      <td>Bachelors</td>\n",
       "      <td>13</td>\n",
       "      <td>Married-civ-spouse</td>\n",
       "      <td>3.0</td>\n",
       "      <td>Husband</td>\n",
       "      <td>White</td>\n",
       "      <td>Male</td>\n",
       "      <td>0</td>\n",
       "      <td>0</td>\n",
       "      <td>13</td>\n",
       "      <td>38.0</td>\n",
       "      <td>&lt;=50K</td>\n",
       "    </tr>\n",
       "    <tr>\n",
       "      <th>2</th>\n",
       "      <td>38</td>\n",
       "      <td>3.0</td>\n",
       "      <td>215646</td>\n",
       "      <td>HS-grad</td>\n",
       "      <td>9</td>\n",
       "      <td>Divorced</td>\n",
       "      <td>5.0</td>\n",
       "      <td>Not-in-family</td>\n",
       "      <td>White</td>\n",
       "      <td>Male</td>\n",
       "      <td>0</td>\n",
       "      <td>0</td>\n",
       "      <td>40</td>\n",
       "      <td>38.0</td>\n",
       "      <td>&lt;=50K</td>\n",
       "    </tr>\n",
       "    <tr>\n",
       "      <th>3</th>\n",
       "      <td>53</td>\n",
       "      <td>3.0</td>\n",
       "      <td>234721</td>\n",
       "      <td>11th</td>\n",
       "      <td>7</td>\n",
       "      <td>Married-civ-spouse</td>\n",
       "      <td>5.0</td>\n",
       "      <td>Husband</td>\n",
       "      <td>Black</td>\n",
       "      <td>Male</td>\n",
       "      <td>0</td>\n",
       "      <td>0</td>\n",
       "      <td>40</td>\n",
       "      <td>38.0</td>\n",
       "      <td>&lt;=50K</td>\n",
       "    </tr>\n",
       "    <tr>\n",
       "      <th>4</th>\n",
       "      <td>28</td>\n",
       "      <td>3.0</td>\n",
       "      <td>338409</td>\n",
       "      <td>Bachelors</td>\n",
       "      <td>13</td>\n",
       "      <td>Married-civ-spouse</td>\n",
       "      <td>9.0</td>\n",
       "      <td>Wife</td>\n",
       "      <td>Black</td>\n",
       "      <td>Female</td>\n",
       "      <td>0</td>\n",
       "      <td>0</td>\n",
       "      <td>40</td>\n",
       "      <td>4.0</td>\n",
       "      <td>&lt;=50K</td>\n",
       "    </tr>\n",
       "  </tbody>\n",
       "</table>\n",
       "</div>"
      ],
      "text/plain": [
       "   Age  Work_Class  Final_Weight   Education  Education-Number  \\\n",
       "0   39         6.0         77516   Bachelors                13   \n",
       "1   50         5.0         83311   Bachelors                13   \n",
       "2   38         3.0        215646     HS-grad                 9   \n",
       "3   53         3.0        234721        11th                 7   \n",
       "4   28         3.0        338409   Bachelors                13   \n",
       "\n",
       "        Marital_Status  Occupation    Relationship    Race      Sex  \\\n",
       "0        Never-married         0.0   Not-in-family   White     Male   \n",
       "1   Married-civ-spouse         3.0         Husband   White     Male   \n",
       "2             Divorced         5.0   Not-in-family   White     Male   \n",
       "3   Married-civ-spouse         5.0         Husband   Black     Male   \n",
       "4   Married-civ-spouse         9.0            Wife   Black   Female   \n",
       "\n",
       "   Capital_Gain  Capital_Loss  Hours-Per-Week  Native_Country  Income  \n",
       "0          2174             0              40            38.0   <=50K  \n",
       "1             0             0              13            38.0   <=50K  \n",
       "2             0             0              40            38.0   <=50K  \n",
       "3             0             0              40            38.0   <=50K  \n",
       "4             0             0              40             4.0   <=50K  "
      ]
     },
     "execution_count": 19,
     "metadata": {},
     "output_type": "execute_result"
    }
   ],
   "source": [
    "imputer = SimpleImputer(missing_values = 41 ,strategy ='mean')\n",
    "df.Native_Country = imputer.fit_transform(df['Native_Country'].values.reshape(-1,1))\n",
    "df2.Native_Country = imputer.fit_transform(df2['Native_Country'].values.reshape(-1,1))\n",
    "df.head()"
   ]
  },
  {
   "cell_type": "code",
   "execution_count": 20,
   "id": "4c344944",
   "metadata": {},
   "outputs": [
    {
     "data": {
      "text/html": [
       "<div>\n",
       "<style scoped>\n",
       "    .dataframe tbody tr th:only-of-type {\n",
       "        vertical-align: middle;\n",
       "    }\n",
       "\n",
       "    .dataframe tbody tr th {\n",
       "        vertical-align: top;\n",
       "    }\n",
       "\n",
       "    .dataframe thead th {\n",
       "        text-align: right;\n",
       "    }\n",
       "</style>\n",
       "<table border=\"1\" class=\"dataframe\">\n",
       "  <thead>\n",
       "    <tr style=\"text-align: right;\">\n",
       "      <th></th>\n",
       "      <th>Age</th>\n",
       "      <th>Work_Class</th>\n",
       "      <th>Final_Weight</th>\n",
       "      <th>Education</th>\n",
       "      <th>Education-Number</th>\n",
       "      <th>Marital_Status</th>\n",
       "      <th>Occupation</th>\n",
       "      <th>Relationship</th>\n",
       "      <th>Race</th>\n",
       "      <th>Sex</th>\n",
       "      <th>Capital_Gain</th>\n",
       "      <th>Capital_Loss</th>\n",
       "      <th>Hours-Per-Week</th>\n",
       "      <th>Native_Country</th>\n",
       "      <th>Income</th>\n",
       "    </tr>\n",
       "  </thead>\n",
       "  <tbody>\n",
       "    <tr>\n",
       "      <th>0</th>\n",
       "      <td>25</td>\n",
       "      <td>3</td>\n",
       "      <td>226802</td>\n",
       "      <td>11th</td>\n",
       "      <td>7</td>\n",
       "      <td>Never-married</td>\n",
       "      <td>6</td>\n",
       "      <td>Own-child</td>\n",
       "      <td>Black</td>\n",
       "      <td>Male</td>\n",
       "      <td>0</td>\n",
       "      <td>0</td>\n",
       "      <td>40</td>\n",
       "      <td>37</td>\n",
       "      <td>&lt;=50K.</td>\n",
       "    </tr>\n",
       "    <tr>\n",
       "      <th>1</th>\n",
       "      <td>38</td>\n",
       "      <td>3</td>\n",
       "      <td>89814</td>\n",
       "      <td>HS-grad</td>\n",
       "      <td>9</td>\n",
       "      <td>Married-civ-spouse</td>\n",
       "      <td>4</td>\n",
       "      <td>Husband</td>\n",
       "      <td>White</td>\n",
       "      <td>Male</td>\n",
       "      <td>0</td>\n",
       "      <td>0</td>\n",
       "      <td>50</td>\n",
       "      <td>37</td>\n",
       "      <td>&lt;=50K.</td>\n",
       "    </tr>\n",
       "    <tr>\n",
       "      <th>2</th>\n",
       "      <td>28</td>\n",
       "      <td>1</td>\n",
       "      <td>336951</td>\n",
       "      <td>Assoc-acdm</td>\n",
       "      <td>12</td>\n",
       "      <td>Married-civ-spouse</td>\n",
       "      <td>10</td>\n",
       "      <td>Husband</td>\n",
       "      <td>White</td>\n",
       "      <td>Male</td>\n",
       "      <td>0</td>\n",
       "      <td>0</td>\n",
       "      <td>40</td>\n",
       "      <td>37</td>\n",
       "      <td>&gt;50K.</td>\n",
       "    </tr>\n",
       "    <tr>\n",
       "      <th>3</th>\n",
       "      <td>44</td>\n",
       "      <td>3</td>\n",
       "      <td>160323</td>\n",
       "      <td>Some-college</td>\n",
       "      <td>10</td>\n",
       "      <td>Married-civ-spouse</td>\n",
       "      <td>6</td>\n",
       "      <td>Husband</td>\n",
       "      <td>Black</td>\n",
       "      <td>Male</td>\n",
       "      <td>7688</td>\n",
       "      <td>0</td>\n",
       "      <td>40</td>\n",
       "      <td>37</td>\n",
       "      <td>&gt;50K.</td>\n",
       "    </tr>\n",
       "    <tr>\n",
       "      <th>4</th>\n",
       "      <td>18</td>\n",
       "      <td>3</td>\n",
       "      <td>103497</td>\n",
       "      <td>Some-college</td>\n",
       "      <td>10</td>\n",
       "      <td>Never-married</td>\n",
       "      <td>6</td>\n",
       "      <td>Own-child</td>\n",
       "      <td>White</td>\n",
       "      <td>Female</td>\n",
       "      <td>0</td>\n",
       "      <td>0</td>\n",
       "      <td>30</td>\n",
       "      <td>37</td>\n",
       "      <td>&lt;=50K.</td>\n",
       "    </tr>\n",
       "  </tbody>\n",
       "</table>\n",
       "</div>"
      ],
      "text/plain": [
       "   Age  Work_Class  Final_Weight      Education  Education-Number  \\\n",
       "0   25           3        226802           11th                 7   \n",
       "1   38           3         89814        HS-grad                 9   \n",
       "2   28           1        336951     Assoc-acdm                12   \n",
       "3   44           3        160323   Some-college                10   \n",
       "4   18           3        103497   Some-college                10   \n",
       "\n",
       "        Marital_Status  Occupation Relationship    Race      Sex  \\\n",
       "0        Never-married           6    Own-child   Black     Male   \n",
       "1   Married-civ-spouse           4      Husband   White     Male   \n",
       "2   Married-civ-spouse          10      Husband   White     Male   \n",
       "3   Married-civ-spouse           6      Husband   Black     Male   \n",
       "4        Never-married           6    Own-child   White   Female   \n",
       "\n",
       "   Capital_Gain  Capital_Loss  Hours-Per-Week  Native_Country   Income  \n",
       "0             0             0              40              37   <=50K.  \n",
       "1             0             0              50              37   <=50K.  \n",
       "2             0             0              40              37    >50K.  \n",
       "3          7688             0              40              37    >50K.  \n",
       "4             0             0              30              37   <=50K.  "
      ]
     },
     "execution_count": 20,
     "metadata": {},
     "output_type": "execute_result"
    }
   ],
   "source": [
    "#tabdile sotune hayi ke float shode be int\n",
    "df['Native_Country'] = df['Native_Country'].astype(int)\n",
    "df['Work_Class'] = df['Work_Class'].astype(int)\n",
    "df['Occupation'] = df['Occupation'].astype(int)\n",
    "\n",
    "df2['Native_Country'] = df2['Native_Country'].astype(int)\n",
    "df2['Work_Class'] = df2['Work_Class'].astype(int)\n",
    "df2['Occupation'] = df2['Occupation'].astype(int)\n",
    "\n",
    "\n",
    "df2.head()"
   ]
  },
  {
   "cell_type": "code",
   "execution_count": 21,
   "id": "aa93626f",
   "metadata": {},
   "outputs": [
    {
     "data": {
      "image/png": "[encoded data removed]",
      "text/plain": [
       "<Figure size 1800x720 with 2 Axes>"
      ]
     },
     "metadata": {
      "needs_background": "light"
     },
     "output_type": "display_data"
    },
    {
     "data": {
      "text/plain": [
       "<Figure size 432x288 with 0 Axes>"
      ]
     },
     "metadata": {},
     "output_type": "display_data"
    }
   ],
   "source": [
    "msno.matrix(df)\n",
    "plt.figure()\n",
    "plt.show()"
   ]
  },
  {
   "cell_type": "code",
   "execution_count": 22,
   "id": "555c5ef6",
   "metadata": {},
   "outputs": [
    {
     "data": {
      "text/plain": [
       "Age                 0\n",
       "Work_Class          0\n",
       "Final_Weight        0\n",
       "Education           0\n",
       "Education-Number    0\n",
       "Marital_Status      0\n",
       "Occupation          0\n",
       "Relationship        0\n",
       "Race                0\n",
       "Sex                 0\n",
       "Capital_Gain        0\n",
       "Capital_Loss        0\n",
       "Hours-Per-Week      0\n",
       "Native_Country      0\n",
       "Income              0\n",
       "dtype: int64"
      ]
     },
     "execution_count": 22,
     "metadata": {},
     "output_type": "execute_result"
    }
   ],
   "source": [
    "count_nan = len(df) - df.count()\n",
    "count_nan"
   ]
  },
  {
   "cell_type": "code",
   "execution_count": 23,
   "id": "1048f266",
   "metadata": {},
   "outputs": [
    {
     "data": {
      "text/plain": [
       " <=50K    24720\n",
       " >50K      7841\n",
       "Name: Income, dtype: int64"
      ]
     },
     "execution_count": 23,
     "metadata": {},
     "output_type": "execute_result"
    }
   ],
   "source": [
    "df['Income'].value_counts()"
   ]
  },
  {
   "cell_type": "code",
   "execution_count": 24,
   "id": "1b2e90fe",
   "metadata": {},
   "outputs": [
    {
     "data": {
      "text/plain": [
       " <=50K.    12435\n",
       " >50K.      3846\n",
       "Name: Income, dtype: int64"
      ]
     },
     "execution_count": 24,
     "metadata": {},
     "output_type": "execute_result"
    }
   ],
   "source": [
    "df2['Income'].value_counts()"
   ]
  },
  {
   "cell_type": "code",
   "execution_count": 25,
   "id": "f6c12efc",
   "metadata": {},
   "outputs": [
    {
     "data": {
      "text/plain": [
       "Index(['Age', 'Work_Class', 'Final_Weight', 'Education', 'Education-Number',\n",
       "       'Marital_Status', 'Occupation', 'Relationship', 'Race', 'Sex',\n",
       "       'Capital_Gain', 'Capital_Loss', 'Hours-Per-Week', 'Native_Country',\n",
       "       'Income'],\n",
       "      dtype='object')"
      ]
     },
     "execution_count": 25,
     "metadata": {},
     "output_type": "execute_result"
    }
   ],
   "source": [
    "df.columns"
   ]
  },
  {
   "cell_type": "code",
   "execution_count": 26,
   "id": "a22ffece",
   "metadata": {},
   "outputs": [
    {
     "data": {
      "text/plain": [
       "Index(['Age', 'Work_Class', 'Final_Weight', 'Education', 'Education-Number',\n",
       "       'Marital_Status', 'Occupation', 'Relationship', 'Race', 'Sex',\n",
       "       'Capital_Gain', 'Capital_Loss', 'Hours-Per-Week', 'Native_Country'],\n",
       "      dtype='object')"
      ]
     },
     "execution_count": 26,
     "metadata": {},
     "output_type": "execute_result"
    }
   ],
   "source": [
    "xdf= df.columns\n",
    "xdf= xdf.drop('Income')\n",
    "xdf"
   ]
  },
  {
   "cell_type": "code",
   "execution_count": 27,
   "id": "373f90b4",
   "metadata": {},
   "outputs": [],
   "source": [
    "from sklearn.preprocessing import LabelEncoder, OneHotEncoder\n",
    "from sklearn.compose import ColumnTransformer\n",
    "\n",
    "#for column in xdf:\n",
    "#    xdf.column = labelencoder.fit_transform(xdf)\n",
    "\n",
    "#transformer = make_column_transformer((labelencoder(), ['Age', 'Work_Class', 'Final_Weight', 'Education', 'Education-Number',\n",
    "#       'Marital_Status', 'Occupation', 'Relationship', 'Race', 'Sex',\n",
    "#       'Capital_Gain', 'Capital_Loss', 'Hours-Per-Week', 'Native_Country']), remainder='passthrough')\n",
    "#transformed = transformer.fit_transform(df_dim)\n",
    "#transformed_df = pd.DataFrame( transformed, columns=transformer.get_feature_names())\n",
    "\n",
    "#df = transformed_df\n",
    "#df\n",
    "\n",
    "#xdf = labelencoder.fit_transform(xdf)\n",
    "#xdf"
   ]
  },
  {
   "cell_type": "code",
   "execution_count": 28,
   "id": "d18d4a26",
   "metadata": {},
   "outputs": [
    {
     "data": {
      "text/html": [
       "<div>\n",
       "<style scoped>\n",
       "    .dataframe tbody tr th:only-of-type {\n",
       "        vertical-align: middle;\n",
       "    }\n",
       "\n",
       "    .dataframe tbody tr th {\n",
       "        vertical-align: top;\n",
       "    }\n",
       "\n",
       "    .dataframe thead th {\n",
       "        text-align: right;\n",
       "    }\n",
       "</style>\n",
       "<table border=\"1\" class=\"dataframe\">\n",
       "  <thead>\n",
       "    <tr style=\"text-align: right;\">\n",
       "      <th></th>\n",
       "      <th>Age</th>\n",
       "      <th>Work_Class</th>\n",
       "      <th>Final_Weight</th>\n",
       "      <th>Education</th>\n",
       "      <th>Education-Number</th>\n",
       "      <th>Marital_Status</th>\n",
       "      <th>Occupation</th>\n",
       "      <th>Relationship</th>\n",
       "      <th>Race</th>\n",
       "      <th>Sex</th>\n",
       "      <th>Capital_Gain</th>\n",
       "      <th>Capital_Loss</th>\n",
       "      <th>Hours-Per-Week</th>\n",
       "      <th>Native_Country</th>\n",
       "      <th>Income</th>\n",
       "    </tr>\n",
       "  </thead>\n",
       "  <tbody>\n",
       "    <tr>\n",
       "      <th>0</th>\n",
       "      <td>39</td>\n",
       "      <td>6</td>\n",
       "      <td>77516</td>\n",
       "      <td>9</td>\n",
       "      <td>13</td>\n",
       "      <td>4</td>\n",
       "      <td>0</td>\n",
       "      <td>1</td>\n",
       "      <td>4</td>\n",
       "      <td>1</td>\n",
       "      <td>2174</td>\n",
       "      <td>0</td>\n",
       "      <td>40</td>\n",
       "      <td>38</td>\n",
       "      <td>0</td>\n",
       "    </tr>\n",
       "    <tr>\n",
       "      <th>1</th>\n",
       "      <td>50</td>\n",
       "      <td>5</td>\n",
       "      <td>83311</td>\n",
       "      <td>9</td>\n",
       "      <td>13</td>\n",
       "      <td>2</td>\n",
       "      <td>3</td>\n",
       "      <td>0</td>\n",
       "      <td>4</td>\n",
       "      <td>1</td>\n",
       "      <td>0</td>\n",
       "      <td>0</td>\n",
       "      <td>13</td>\n",
       "      <td>38</td>\n",
       "      <td>0</td>\n",
       "    </tr>\n",
       "    <tr>\n",
       "      <th>2</th>\n",
       "      <td>38</td>\n",
       "      <td>3</td>\n",
       "      <td>215646</td>\n",
       "      <td>11</td>\n",
       "      <td>9</td>\n",
       "      <td>0</td>\n",
       "      <td>5</td>\n",
       "      <td>1</td>\n",
       "      <td>4</td>\n",
       "      <td>1</td>\n",
       "      <td>0</td>\n",
       "      <td>0</td>\n",
       "      <td>40</td>\n",
       "      <td>38</td>\n",
       "      <td>0</td>\n",
       "    </tr>\n",
       "    <tr>\n",
       "      <th>3</th>\n",
       "      <td>53</td>\n",
       "      <td>3</td>\n",
       "      <td>234721</td>\n",
       "      <td>1</td>\n",
       "      <td>7</td>\n",
       "      <td>2</td>\n",
       "      <td>5</td>\n",
       "      <td>0</td>\n",
       "      <td>2</td>\n",
       "      <td>1</td>\n",
       "      <td>0</td>\n",
       "      <td>0</td>\n",
       "      <td>40</td>\n",
       "      <td>38</td>\n",
       "      <td>0</td>\n",
       "    </tr>\n",
       "    <tr>\n",
       "      <th>4</th>\n",
       "      <td>28</td>\n",
       "      <td>3</td>\n",
       "      <td>338409</td>\n",
       "      <td>9</td>\n",
       "      <td>13</td>\n",
       "      <td>2</td>\n",
       "      <td>9</td>\n",
       "      <td>5</td>\n",
       "      <td>2</td>\n",
       "      <td>0</td>\n",
       "      <td>0</td>\n",
       "      <td>0</td>\n",
       "      <td>40</td>\n",
       "      <td>4</td>\n",
       "      <td>0</td>\n",
       "    </tr>\n",
       "    <tr>\n",
       "      <th>5</th>\n",
       "      <td>37</td>\n",
       "      <td>3</td>\n",
       "      <td>284582</td>\n",
       "      <td>12</td>\n",
       "      <td>14</td>\n",
       "      <td>2</td>\n",
       "      <td>3</td>\n",
       "      <td>5</td>\n",
       "      <td>4</td>\n",
       "      <td>0</td>\n",
       "      <td>0</td>\n",
       "      <td>0</td>\n",
       "      <td>40</td>\n",
       "      <td>38</td>\n",
       "      <td>0</td>\n",
       "    </tr>\n",
       "    <tr>\n",
       "      <th>6</th>\n",
       "      <td>49</td>\n",
       "      <td>3</td>\n",
       "      <td>160187</td>\n",
       "      <td>6</td>\n",
       "      <td>5</td>\n",
       "      <td>3</td>\n",
       "      <td>7</td>\n",
       "      <td>1</td>\n",
       "      <td>2</td>\n",
       "      <td>0</td>\n",
       "      <td>0</td>\n",
       "      <td>0</td>\n",
       "      <td>16</td>\n",
       "      <td>22</td>\n",
       "      <td>0</td>\n",
       "    </tr>\n",
       "    <tr>\n",
       "      <th>7</th>\n",
       "      <td>52</td>\n",
       "      <td>5</td>\n",
       "      <td>209642</td>\n",
       "      <td>11</td>\n",
       "      <td>9</td>\n",
       "      <td>2</td>\n",
       "      <td>3</td>\n",
       "      <td>0</td>\n",
       "      <td>4</td>\n",
       "      <td>1</td>\n",
       "      <td>0</td>\n",
       "      <td>0</td>\n",
       "      <td>45</td>\n",
       "      <td>38</td>\n",
       "      <td>1</td>\n",
       "    </tr>\n",
       "    <tr>\n",
       "      <th>8</th>\n",
       "      <td>31</td>\n",
       "      <td>3</td>\n",
       "      <td>45781</td>\n",
       "      <td>12</td>\n",
       "      <td>14</td>\n",
       "      <td>4</td>\n",
       "      <td>9</td>\n",
       "      <td>1</td>\n",
       "      <td>4</td>\n",
       "      <td>0</td>\n",
       "      <td>14084</td>\n",
       "      <td>0</td>\n",
       "      <td>50</td>\n",
       "      <td>38</td>\n",
       "      <td>1</td>\n",
       "    </tr>\n",
       "    <tr>\n",
       "      <th>9</th>\n",
       "      <td>42</td>\n",
       "      <td>3</td>\n",
       "      <td>159449</td>\n",
       "      <td>9</td>\n",
       "      <td>13</td>\n",
       "      <td>2</td>\n",
       "      <td>3</td>\n",
       "      <td>0</td>\n",
       "      <td>4</td>\n",
       "      <td>1</td>\n",
       "      <td>5178</td>\n",
       "      <td>0</td>\n",
       "      <td>40</td>\n",
       "      <td>38</td>\n",
       "      <td>1</td>\n",
       "    </tr>\n",
       "  </tbody>\n",
       "</table>\n",
       "</div>"
      ],
      "text/plain": [
       "   Age  Work_Class  Final_Weight  Education  Education-Number  Marital_Status  \\\n",
       "0   39           6         77516          9                13               4   \n",
       "1   50           5         83311          9                13               2   \n",
       "2   38           3        215646         11                 9               0   \n",
       "3   53           3        234721          1                 7               2   \n",
       "4   28           3        338409          9                13               2   \n",
       "5   37           3        284582         12                14               2   \n",
       "6   49           3        160187          6                 5               3   \n",
       "7   52           5        209642         11                 9               2   \n",
       "8   31           3         45781         12                14               4   \n",
       "9   42           3        159449          9                13               2   \n",
       "\n",
       "   Occupation  Relationship  Race  Sex  Capital_Gain  Capital_Loss  \\\n",
       "0           0             1     4    1          2174             0   \n",
       "1           3             0     4    1             0             0   \n",
       "2           5             1     4    1             0             0   \n",
       "3           5             0     2    1             0             0   \n",
       "4           9             5     2    0             0             0   \n",
       "5           3             5     4    0             0             0   \n",
       "6           7             1     2    0             0             0   \n",
       "7           3             0     4    1             0             0   \n",
       "8           9             1     4    0         14084             0   \n",
       "9           3             0     4    1          5178             0   \n",
       "\n",
       "   Hours-Per-Week  Native_Country  Income  \n",
       "0              40              38       0  \n",
       "1              13              38       0  \n",
       "2              40              38       0  \n",
       "3              40              38       0  \n",
       "4              40               4       0  \n",
       "5              40              38       0  \n",
       "6              16              22       0  \n",
       "7              45              38       1  \n",
       "8              50              38       1  \n",
       "9              40              38       1  "
      ]
     },
     "execution_count": 28,
     "metadata": {},
     "output_type": "execute_result"
    }
   ],
   "source": [
    "#('Age', 'Work_Class', 'Final_Weight', 'Education', 'Education-Number',\n",
    "#       'Marital_Status', 'Occupation', 'Relationship', 'Race', 'Sex',\n",
    "#    'Capital_Gain', 'Capital_Loss', 'Hours-Per-Week', 'Native_Country','Income')\n",
    "\n",
    "labelencoder = LabelEncoder()\n",
    "#x_color = df_dim.color\n",
    "#y_color = label_encoder.fit_transform(x_color)\n",
    "#y_color\n",
    "\n",
    "transformer = labelencoder.fit_transform\n",
    "df.Education = transformer(df.Education)\n",
    "df.Marital_Status = transformer(df.Marital_Status)\n",
    "df.Relationship = transformer(df.Relationship)\n",
    "df.Race = transformer(df.Race)\n",
    "df.Sex = transformer(df.Sex)\n",
    "df.Income = transformer(df.Income)\n",
    "\n",
    "df2.Education = transformer(df2.Education)\n",
    "df2.Marital_Status = transformer(df2.Marital_Status)\n",
    "df2.Relationship = transformer(df2.Relationship)\n",
    "df2.Race = transformer(df2.Race)\n",
    "df2.Sex = transformer(df2.Sex)\n",
    "df2.Income = transformer(df2.Income)\n",
    "\n",
    "df.head(10)"
   ]
  },
  {
   "cell_type": "code",
   "execution_count": 29,
   "id": "b1e44f04",
   "metadata": {},
   "outputs": [
    {
     "name": "stdout",
     "output_type": "stream",
     "text": [
      "[[    39      6  77516      9     13      4      0      1      4      1\n",
      "    2174      0     40     38]\n",
      " [    50      5  83311      9     13      2      3      0      4      1\n",
      "       0      0     13     38]\n",
      " [    38      3 215646     11      9      0      5      1      4      1\n",
      "       0      0     40     38]]\n",
      "[[    25      3 226802      1      7      4      6      3      2      1\n",
      "       0      0     40     37]\n",
      " [    38      3  89814     11      9      2      4      0      4      1\n",
      "       0      0     50     37]\n",
      " [    28      1 336951      7     12      2     10      0      4      1\n",
      "       0      0     40     37]]\n"
     ]
    }
   ],
   "source": [
    "# تبدیل ستون های ایکس به array\n",
    "# مناسب استفاده کتابخانه سایکیت لرن\n",
    "# زیرا سایکیت لرن با پانداس کار نمیکند \n",
    "# با نامپای کار میکند\n",
    "x_train= df[['Age', 'Work_Class', 'Final_Weight', 'Education', 'Education-Number',\n",
    "       'Marital_Status', 'Occupation', 'Relationship', 'Race', 'Sex',\n",
    "       'Capital_Gain', 'Capital_Loss', 'Hours-Per-Week', 'Native_Country']].values\n",
    "x_test= df2[['Age', 'Work_Class', 'Final_Weight', 'Education', 'Education-Number',\n",
    "       'Marital_Status', 'Occupation', 'Relationship', 'Race', 'Sex',\n",
    "       'Capital_Gain', 'Capital_Loss', 'Hours-Per-Week', 'Native_Country']].values\n",
    "print(x_train[0:3])\n",
    "print(x_test[0:3])"
   ]
  },
  {
   "cell_type": "code",
   "execution_count": 30,
   "id": "d9d8713e",
   "metadata": {},
   "outputs": [
    {
     "name": "stdout",
     "output_type": "stream",
     "text": [
      "[[0]\n",
      " [0]\n",
      " [0]\n",
      " [0]\n",
      " [0]\n",
      " [0]\n",
      " [0]\n",
      " [1]\n",
      " [1]\n",
      " [1]]\n",
      "[[0]\n",
      " [0]\n",
      " [1]\n",
      " [1]\n",
      " [0]\n",
      " [0]\n",
      " [0]\n",
      " [1]\n",
      " [0]\n",
      " [0]]\n"
     ]
    }
   ],
   "source": [
    "y_train=df[['Income']].values\n",
    "y_test= df2[['Income']].values\n",
    "print(y_train[0:10])\n",
    "print(y_test[0:10])"
   ]
  },
  {
   "cell_type": "code",
   "execution_count": 31,
   "id": "4dd1b85e",
   "metadata": {},
   "outputs": [
    {
     "data": {
      "text/plain": [
       "array([[-0.99570562, -0.08529633,  0.35077413, -2.40251115, -1.19745882,\n",
       "         0.92163395,  0.02237865,  0.96694656, -1.96262077,  0.70307135,\n",
       "        -0.14592048, -0.21665953, -0.03542945,  0.10221634],\n",
       "       [-0.04264203, -0.08529633, -0.94709543,  0.18133163, -0.42005962,\n",
       "        -0.4062122 , -0.48825297, -0.90018084,  0.39366753,  0.70307135,\n",
       "        -0.14592048, -0.21665953,  0.77446821,  0.10221634],\n",
       "       [-0.77576787, -1.89169231,  1.39436215, -0.85220548,  0.74603917,\n",
       "        -0.4062122 ,  1.0436419 , -0.90018084,  0.39366753,  0.70307135,\n",
       "        -0.14592048, -0.21665953, -0.03542945,  0.10221634]])"
      ]
     },
     "execution_count": 31,
     "metadata": {},
     "output_type": "execute_result"
    }
   ],
   "source": [
    "from sklearn import preprocessing\n",
    "scaler = preprocessing.StandardScaler()\n",
    "x_train = scaler.fit(x_train).transform(x_train)\n",
    "x_test= scaler.transform(x_test)\n",
    "x_test[0:3]"
   ]
  },
  {
   "cell_type": "code",
   "execution_count": 32,
   "id": "87058b7f",
   "metadata": {},
   "outputs": [
    {
     "name": "stdout",
     "output_type": "stream",
     "text": [
      "[[-0.56319851]\n",
      " [-0.56319851]\n",
      " [-0.56319851]\n",
      " [-0.56319851]\n",
      " [-0.56319851]\n",
      " [-0.56319851]\n",
      " [-0.56319851]\n",
      " [ 1.77557289]\n",
      " [ 1.77557289]\n",
      " [ 1.77557289]]\n",
      "[[-0.56319851]\n",
      " [-0.56319851]\n",
      " [ 1.77557289]\n",
      " [ 1.77557289]\n",
      " [-0.56319851]\n",
      " [-0.56319851]\n",
      " [-0.56319851]\n",
      " [ 1.77557289]\n",
      " [-0.56319851]\n",
      " [-0.56319851]]\n"
     ]
    }
   ],
   "source": [
    "y_train = scaler.fit(y_train).transform(y_train)\n",
    "y_test = scaler.transform(y_test)\n",
    "print(y_train[0:10])\n",
    "print(y_test[0:10])"
   ]
  },
  {
   "cell_type": "code",
   "execution_count": 33,
   "id": "8f08023b",
   "metadata": {},
   "outputs": [],
   "source": [
    "#[x,y]"
   ]
  },
  {
   "cell_type": "code",
   "execution_count": 34,
   "id": "4873e6a8",
   "metadata": {},
   "outputs": [],
   "source": [
    "# bi fayde\n",
    "#X_train, X_test, y_train, y_test = train_test_split(x, y, test_size=0, random_state=42)\n",
    "#y= y.reshape(-1, 1)\n",
    "#.fit(x,np.ravel(y,order=\"c\"))\n",
    "#model.fit(x,np.ravel(y))\n",
    "\n",
    "#y = y.ravel()\n",
    "#x = x.ravel()\n",
    "#model.fit(x.reshape(-1, 1),y.reshape(-1, 1))"
   ]
  },
  {
   "cell_type": "code",
   "execution_count": 35,
   "id": "4c612230",
   "metadata": {},
   "outputs": [],
   "source": [
    "y_train = np.array(df['Income'].values.tolist())\n",
    "y_test = np.array(df2['Income'].values.tolist())"
   ]
  },
  {
   "cell_type": "code",
   "execution_count": 36,
   "id": "02d3ef7c",
   "metadata": {},
   "outputs": [],
   "source": [
    "#[df.Age, df.Work_Class, df.Final_Weight, df.Education,\n",
    "#       df.Education-Number, df.Marital_Status, df.Occupation, df.Relationship,\n",
    "#       df.Race, df.Sex, df.Capital_Gain, df.Capital_Loss, df.Hours-Per-Week,\n",
    "#       df.Native_Country]\n",
    "#y =  np.array(x.values.tolist())\n",
    "#x = x.tolist()"
   ]
  },
  {
   "cell_type": "code",
   "execution_count": 37,
   "id": "2d251ea1",
   "metadata": {},
   "outputs": [
    {
     "data": {
      "text/plain": [
       "numpy.ndarray"
      ]
     },
     "execution_count": 37,
     "metadata": {},
     "output_type": "execute_result"
    }
   ],
   "source": [
    "type(x_train)"
   ]
  },
  {
   "cell_type": "code",
   "execution_count": 38,
   "id": "76580652",
   "metadata": {},
   "outputs": [],
   "source": [
    "x_train = x_train.tolist()\n",
    "x_test = x_test.tolist()"
   ]
  },
  {
   "cell_type": "code",
   "execution_count": 39,
   "id": "d932bc3b",
   "metadata": {},
   "outputs": [],
   "source": [
    "#x.shape()"
   ]
  },
  {
   "cell_type": "code",
   "execution_count": 40,
   "id": "68dea0fb",
   "metadata": {},
   "outputs": [
    {
     "name": "stdout",
     "output_type": "stream",
     "text": [
      "32561\n",
      "32561\n",
      "16281\n",
      "16281\n"
     ]
    }
   ],
   "source": [
    "print(len(x_train))\n",
    "print(len(y_train))\n",
    "print(len(x_test))\n",
    "print(len(y_test))"
   ]
  },
  {
   "cell_type": "code",
   "execution_count": 41,
   "id": "62f11209",
   "metadata": {},
   "outputs": [
    {
     "data": {
      "text/plain": [
       "KNeighborsClassifier(n_neighbors=4)"
      ]
     },
     "execution_count": 41,
     "metadata": {},
     "output_type": "execute_result"
    }
   ],
   "source": [
    "from sklearn.neighbors import KNeighborsClassifier\n",
    "#from sklearn.model_selection import train_test_split\n",
    "k=4\n",
    "model = KNeighborsClassifier(n_neighbors=k)\n",
    "knn = model.fit(x_train,y_train)\n",
    "knn"
   ]
  },
  {
   "cell_type": "code",
   "execution_count": 42,
   "id": "382d1bb3",
   "metadata": {},
   "outputs": [
    {
     "name": "stdout",
     "output_type": "stream",
     "text": [
      "[0 0 0 1 0 0 0 1 0 0]\n"
     ]
    },
    {
     "data": {
      "text/plain": [
       "array([0, 0, 1, 1, 0, 0, 0, 1, 0, 0])"
      ]
     },
     "execution_count": 42,
     "metadata": {},
     "output_type": "execute_result"
    }
   ],
   "source": [
    "yhat= knn.predict(x_test)\n",
    "print(yhat[0:10])\n",
    "y_test[0:10]"
   ]
  },
  {
   "cell_type": "code",
   "execution_count": 43,
   "id": "2efe58bf",
   "metadata": {},
   "outputs": [
    {
     "name": "stdout",
     "output_type": "stream",
     "text": [
      "0.8779521513467031\n",
      "0.827590442847491\n"
     ]
    }
   ],
   "source": [
    "from sklearn import metrics\n",
    "print(metrics.accuracy_score(y_train ,knn.predict(x_train)))\n",
    "print(metrics.accuracy_score(y_test ,yhat))"
   ]
  },
  {
   "cell_type": "code",
   "execution_count": 44,
   "id": "70f02fa3",
   "metadata": {},
   "outputs": [
    {
     "data": {
      "text/plain": [
       "array([0.79528285, 0.81935999, 0.82089552, 0.82759044, 0.82943308,\n",
       "       0.83336404, 0.83287267, 0.834961  , 0.8369879 , 0.83692648,\n",
       "       0.8358209 , 0.83606658, 0.83717216, 0.83692648, 0.83655795,\n",
       "       0.83864627, 0.8387077 , 0.83895338, 0.83926049, 0.83981328,\n",
       "       0.83932191, 0.83969044, 0.83950617, 0.83926049, 0.83950617,\n",
       "       0.83919907, 0.83883054, 0.8390148 , 0.83907622, 0.83944475,\n",
       "       0.8390148 , 0.83889196, 0.83907622, 0.83981328, 0.83852343,\n",
       "       0.83876912, 0.83778638, 0.83717216, 0.8369879 ])"
      ]
     },
     "execution_count": 44,
     "metadata": {},
     "output_type": "execute_result"
    }
   ],
   "source": [
    "ks=40\n",
    "mean_acc= np.zeros((ks-1))\n",
    "std_acc=np.zeros((ks-1))\n",
    "\n",
    "for n in range (1,ks): \n",
    "    model= KNeighborsClassifier(n_neighbors= n).fit(x_train ,y_train)    \n",
    "    yhat= model.predict(x_test)   \n",
    "    mean_acc[n-1]= metrics.accuracy_score(y_test ,yhat) #y test\n",
    "    std_acc[n-1]= np.std( yhat== y_test)/np.sqrt(yhat.shape[0])   #y test\n",
    "    \n",
    "    \n",
    "mean_acc"
   ]
  },
  {
   "cell_type": "code",
   "execution_count": 45,
   "id": "c2e22a74",
   "metadata": {},
   "outputs": [],
   "source": [
    "natije = ([0.79528285, 0.81935999, 0.82089552, 0.82759044, 0.82943308,\n",
    "       0.83336404, 0.83287267, 0.834961  , 0.8369879 , 0.83692648,\n",
    "       0.8358209 , 0.83606658, 0.83717216, 0.83692648, 0.83655795,\n",
    "       0.83864627, 0.8387077 , 0.83895338, 0.83926049, 0.83981328,\n",
    "       0.83932191, 0.83969044, 0.83950617, 0.83926049, 0.83950617,\n",
    "       0.83919907, 0.83883054, 0.8390148 , 0.83907622, 0.83944475,\n",
    "       0.8390148 , 0.83889196, 0.83907622, 0.83981328, 0.83852343,\n",
    "       0.83876912, 0.83778638, 0.83717216, 0.8369879 ])"
   ]
  },
  {
   "cell_type": "code",
   "execution_count": 46,
   "id": "3054c0ab",
   "metadata": {},
   "outputs": [
    {
     "data": {
      "text/plain": [
       "0.83981328"
      ]
     },
     "execution_count": 46,
     "metadata": {},
     "output_type": "execute_result"
    }
   ],
   "source": [
    "natije.sort()\n",
    "natije[-1]\n",
    "# k=35 : max accuracy"
   ]
  },
  {
   "cell_type": "code",
   "execution_count": 47,
   "id": "d81c90d2",
   "metadata": {},
   "outputs": [
    {
     "data": {
      "text/plain": [
       "0.6161411628579693"
      ]
     },
     "execution_count": 47,
     "metadata": {},
     "output_type": "execute_result"
    }
   ],
   "source": [
    "from sklearn.metrics import f1_score\n",
    "f1_score(y_test, yhat)\n",
    "#, average='weighted' :0.83"
   ]
  },
  {
   "cell_type": "code",
   "execution_count": 48,
   "id": "a448d60e",
   "metadata": {},
   "outputs": [
    {
     "data": {
      "text/plain": [
       "(0.7821956340457636, 0.739194952599069, 0.7563316544171319, None)"
      ]
     },
     "execution_count": 48,
     "metadata": {},
     "output_type": "execute_result"
    }
   ],
   "source": [
    "from sklearn.metrics import precision_recall_fscore_support\n",
    "precision_recall_fscore_support(y_test, yhat, average='macro')\n",
    "#(0.7821956340457636, 0.739194952599069, 0.7563316544171319, None) macro"
   ]
  },
  {
   "cell_type": "code",
   "execution_count": 49,
   "id": "6c15fc0b",
   "metadata": {},
   "outputs": [
    {
     "data": {
      "text/plain": [
       "array([[11497,   938],\n",
       "       [ 1716,  2130]], dtype=int64)"
      ]
     },
     "execution_count": 49,
     "metadata": {},
     "output_type": "execute_result"
    }
   ],
   "source": [
    "from sklearn.metrics import confusion_matrix\n",
    "conf_mtrx= confusion_matrix(y_test, yhat)\n",
    "conf_mtrx"
   ]
  },
  {
   "cell_type": "code",
   "execution_count": 50,
   "id": "76f6f07b",
   "metadata": {},
   "outputs": [
    {
     "data": {
      "text/plain": [
       "<AxesSubplot:>"
      ]
     },
     "execution_count": 50,
     "metadata": {},
     "output_type": "execute_result"
    },
    {
     "data": {
      "image/png": "[encoded data removed]",
      "text/plain": [
       "<Figure size 360x360 with 2 Axes>"
      ]
     },
     "metadata": {
      "needs_background": "light"
     },
     "output_type": "display_data"
    }
   ],
   "source": [
    "import seaborn as sns\n",
    "import matplotlib.pyplot as plt\n",
    "#df_cm = pd.DataFrame(conf_mtrx, range(2), range(2))\n",
    "# plt.figure(figsize=(10,7))\n",
    "#sns.set(font_scale=1.4) # for label size\n",
    "#sns.heatmap(df_cm, annot=True, annot_kws={\"size\": 16}) # font size\n",
    "\n",
    "#plt.show()\n",
    "#print(f\"{a:f}\")\n",
    "df_cm = pd.DataFrame(conf_mtrx, index = [i for i in \"01\"],\n",
    "                  columns = [i for i in \"01\"])\n",
    "plt.figure(figsize = (5,5))\n",
    "#sns.color_palette(\"coolwarm\") #, as_cmap=True)\n",
    "sns.heatmap(df_cm, annot=True, cmap=\"Blues\")"
   ]
  },
  {
   "cell_type": "code",
   "execution_count": 67,
   "id": "48c713fa",
   "metadata": {},
   "outputs": [],
   "source": [
    "from sklearn.metrics import classification_report, confusion_matrix\n",
    "import itertools"
   ]
  },
  {
   "cell_type": "code",
   "execution_count": 70,
   "id": "87d09efb",
   "metadata": {},
   "outputs": [],
   "source": [
    "def plot_confusion_matrix(cm, classes,\n",
    "                          normalize=False,\n",
    "                          title='Confusion matrix',\n",
    "                          cmap=plt.cm.Blues):\n",
    "    \"\"\"\n",
    "    This function prints and plots the confusion matrix.\n",
    "    Normalization can be applied by setting `normalize=True`.\n",
    "    \"\"\"\n",
    "    if normalize:\n",
    "        cm = cm.astype('float') / cm.sum(axis=1)[:, np.newaxis]\n",
    "        print(\"Normalized confusion matrix\")\n",
    "    else:\n",
    "        print('Confusion matrix, without normalization')\n",
    "\n",
    "    print(cm)\n",
    "\n",
    "    plt.imshow(cm, interpolation='nearest', cmap=cmap)\n",
    "    plt.title(title)\n",
    "    plt.colorbar()\n",
    "    tick_marks = np.arange(len(classes))\n",
    "    plt.xticks(tick_marks, classes, rotation=45)\n",
    "    plt.yticks(tick_marks, classes)\n",
    "\n",
    "    fmt = '.2f' if normalize else 'd'\n",
    "    thresh = cm.max() / 2.\n",
    "    for i, j in itertools.product(range(cm.shape[0]), range(cm.shape[1])):\n",
    "        plt.text(j, i, format(cm[i, j], fmt),\n",
    "                 horizontalalignment=\"center\",\n",
    "                 color=\"white\" if cm[i, j] > thresh else \"black\")\n",
    "\n",
    "    plt.tight_layout()\n",
    "    plt.ylabel('True label')\n",
    "    plt.xlabel('Predicted label')"
   ]
  },
  {
   "cell_type": "code",
   "execution_count": 83,
   "id": "0e847b20",
   "metadata": {},
   "outputs": [
    {
     "name": "stdout",
     "output_type": "stream",
     "text": [
      "              precision    recall  f1-score   support\n",
      "\n",
      "           0       0.87      0.92      0.90     12435\n",
      "           1       0.69      0.55      0.62      3846\n",
      "\n",
      "    accuracy                           0.84     16281\n",
      "   macro avg       0.78      0.74      0.76     16281\n",
      "weighted avg       0.83      0.84      0.83     16281\n",
      "\n",
      "Confusion matrix, without normalization\n",
      "[[11497   938]\n",
      " [ 1716  2130]]\n"
     ]
    },
    {
     "data": {
      "image/png": "[encoded data removed]",
      "text/plain": [
       "<Figure size 432x432 with 2 Axes>"
      ]
     },
     "metadata": {
      "needs_background": "light"
     },
     "output_type": "display_data"
    }
   ],
   "source": [
    "# Compute confusion matrix\n",
    "cnf_matrix_knn = confusion_matrix(y_test, yhat) #, labels=[2,4])\n",
    "np.set_printoptions(precision=2)\n",
    "\n",
    "print (classification_report(y_test, yhat))\n",
    "\n",
    "# Plot non-normalized confusion matrix\n",
    "plt.figure(figsize= [6,6])\n",
    "plot_confusion_matrix(cnf_matrix_knn, classes=['<50','>50'], title='Confusion matrix knn')"
   ]
  },
  {
   "cell_type": "code",
   "execution_count": 51,
   "id": "140da33f",
   "metadata": {},
   "outputs": [],
   "source": [
    "#from sklearn.pipeline import make_pipeline\n",
    "#from sklearn.preprocessing import StandardScaler\n",
    "#from sklearn.pipeline import Pipeline\n",
    "#X = x_train\n",
    "#y = y_train\n",
    "#from sklearn.svm import SVC\n",
    "#clf = make_pipeline(StandardScaler(), SVC(gamma='auto'))\n",
    "#clf.fit(X, y)\n",
    "#pip=Pipeline(steps=[('standardscaler', StandardScaler()),\n",
    "#                ('svc', SVC(gamma='auto'))])\n",
    "#pip"
   ]
  },
  {
   "cell_type": "code",
   "execution_count": 52,
   "id": "e27eeb02",
   "metadata": {},
   "outputs": [],
   "source": [
    "#pipe = Pipeline([('scaler', StandardScaler()), ('svc', SVC())])\n",
    "\n",
    "\n",
    "#pip.fit(x_train, y_train)\n",
    "#pip.score(x_test, y_test)"
   ]
  },
  {
   "cell_type": "code",
   "execution_count": 53,
   "id": "f9918194",
   "metadata": {},
   "outputs": [],
   "source": [
    "#pip.predict(x_test)"
   ]
  },
  {
   "cell_type": "code",
   "execution_count": 54,
   "id": "252c9765",
   "metadata": {},
   "outputs": [
    {
     "data": {
      "text/plain": [
       "SVC()"
      ]
     },
     "execution_count": 54,
     "metadata": {},
     "output_type": "execute_result"
    }
   ],
   "source": [
    "from sklearn import svm\n",
    "from sklearn.svm import SVC\n",
    "#deafult kernel is rbf\n",
    "clf= svm.SVC()\n",
    "clf.fit(x_train,y_train)"
   ]
  },
  {
   "cell_type": "code",
   "execution_count": 55,
   "id": "42c4a870",
   "metadata": {},
   "outputs": [
    {
     "name": "stdout",
     "output_type": "stream",
     "text": [
      "[0 0 0 1 0]\n",
      "[0 0 1 1 0]\n"
     ]
    }
   ],
   "source": [
    "y_pred= clf.predict(x_test)\n",
    "print(y_pred[0:5])\n",
    "print(y_test[0:5])"
   ]
  },
  {
   "cell_type": "code",
   "execution_count": 56,
   "id": "ade9d12f",
   "metadata": {},
   "outputs": [
    {
     "data": {
      "text/plain": [
       "(0.8433122225215791, 0.8508691112339537, 0.8418136618851498, None)"
      ]
     },
     "execution_count": 56,
     "metadata": {},
     "output_type": "execute_result"
    }
   ],
   "source": [
    "precision_recall_fscore_support(y_test, y_pred, average='weighted')\n",
    "#(0.8285840788297646, 0.8369879000061421, 0.8302887904653873, None) ba yhat"
   ]
  },
  {
   "cell_type": "code",
   "execution_count": 57,
   "id": "39731da1",
   "metadata": {},
   "outputs": [
    {
     "name": "stdout",
     "output_type": "stream",
     "text": [
      "for linear kernel prediction is:\n",
      "[0 0 0 1 0 0 0 1 0 0]\n",
      "[0 0 1 1 0 0 0 1 0 0]\n",
      "and the precision_recall_fscore_support is:\n",
      "(0.8059707736434705, 0.8133407038879675, 0.7807145427943394, None)\n",
      "for poly kernel prediction is:\n",
      "[0 0 0 0 0 0 0 1 0 0]\n",
      "[0 0 1 1 0 0 0 1 0 0]\n",
      "and the precision_recall_fscore_support is:\n",
      "(0.8370197028982741, 0.8452183526810393, 0.8338820682834082, None)\n",
      "for rbf kernel prediction is:\n",
      "[0 0 0 1 0 0 0 1 0 0]\n",
      "[0 0 1 1 0 0 0 1 0 0]\n",
      "and the precision_recall_fscore_support is:\n",
      "(0.8433122225215791, 0.8508691112339537, 0.8418136618851498, None)\n",
      "for sigmoid kernel prediction is:\n",
      "[0 0 0 1 0 0 0 1 0 0]\n",
      "[0 0 1 1 0 0 0 1 0 0]\n",
      "and the precision_recall_fscore_support is:\n",
      "(0.7553992499654358, 0.7572630673791536, 0.7563090143906123, None)\n"
     ]
    }
   ],
   "source": [
    "#‘linear’, ‘poly’, ‘rbf’, ‘sigmoid’, ‘precomputed’\n",
    "kernels = ['linear', 'poly', 'rbf', 'sigmoid']\n",
    "for i in kernels:\n",
    "    clf= svm.SVC(kernel= i)\n",
    "    clf.fit(x_train,y_train)\n",
    "    y_pred= clf.predict(x_test)\n",
    "    print('for', i ,\"kernel prediction is:\")\n",
    "    print(y_pred[0:10])\n",
    "    print(y_test[0:10])\n",
    "    print('and the precision_recall_fscore_support is:')\n",
    "    print(precision_recall_fscore_support(y_test, y_pred, average='weighted'))\n",
    "    \n"
   ]
  },
  {
   "cell_type": "raw",
   "id": "1ae74869",
   "metadata": {},
   "source": [
    "(for linear kernel prediction is:\n",
    "[0 0 0 1 0]\n",
    "[0 0 1 1 0]\n",
    "and the precision_recall_fscore_support is:\n",
    "(0.8285840788297646, 0.8369879000061421, 0.8302887904653873, None)\n",
    "for poly kernel prediction is:\n",
    "[0 0 0 0 0]\n",
    "[0 0 1 1 0]\n",
    "and the precision_recall_fscore_support is:\n",
    "(0.8285840788297646, 0.8369879000061421, 0.8302887904653873, None)\n",
    "for rbf kernel prediction is:\n",
    "[0 0 0 1 0]\n",
    "[0 0 1 1 0]\n",
    "and the precision_recall_fscore_support is:\n",
    "(0.8285840788297646, 0.8369879000061421, 0.8302887904653873, None)\n",
    "for sigmoid kernel prediction is:\n",
    "[0 0 0 1 0]\n",
    "[0 0 1 1 0]\n",
    "and the precision_recall_fscore_support is:\n",
    "(0.8285840788297646, 0.8369879000061421, 0.8302887904653873, None))"
   ]
  },
  {
   "cell_type": "code",
   "execution_count": 82,
   "id": "63dd49ff",
   "metadata": {},
   "outputs": [
    {
     "name": "stdout",
     "output_type": "stream",
     "text": [
      "              precision    recall  f1-score   support\n",
      "\n",
      "           0       0.84      0.84      0.84     12435\n",
      "           1       0.49      0.48      0.48      3846\n",
      "\n",
      "    accuracy                           0.76     16281\n",
      "   macro avg       0.66      0.66      0.66     16281\n",
      "weighted avg       0.76      0.76      0.76     16281\n",
      "\n",
      "Confusion matrix, without normalization\n",
      "[[10502  1933]\n",
      " [ 2019  1827]]\n"
     ]
    },
    {
     "data": {
      "image/png": "[encoded data removed]",
      "text/plain": [
       "<Figure size 432x432 with 2 Axes>"
      ]
     },
     "metadata": {
      "needs_background": "light"
     },
     "output_type": "display_data"
    }
   ],
   "source": [
    "cnf_matrix_svm = confusion_matrix(y_test, y_pred)\n",
    "np.set_printoptions(precision=2)\n",
    "\n",
    "print (classification_report(y_test, y_pred))\n",
    "\n",
    "# Plot non-normalized confusion matrix\n",
    "plt.figure(figsize=[6,6])\n",
    "plot_confusion_matrix(cnf_matrix_svm , classes=['<50','>50'] ,  title='Confusion matrix SVM')"
   ]
  },
  {
   "cell_type": "code",
   "execution_count": 76,
   "id": "b01bc29e",
   "metadata": {},
   "outputs": [
    {
     "name": "stdout",
     "output_type": "stream",
     "text": [
      "[0 0 1 1 0 0 0 1 0 0]\n",
      "[0 0 0 1 0 0 0 1 0 0]\n"
     ]
    }
   ],
   "source": [
    "from sklearn.naive_bayes import GaussianNB\n",
    "#naivebayes = GaussianNB()\n",
    "\n",
    "nb= GaussianNB().fit(x_train, y_train)\n",
    "y_pred_nb= nb.predict(x_test)\n",
    "print(y_test[0:10])\n",
    "print(y_pred_nb[0:10])"
   ]
  },
  {
   "cell_type": "code",
   "execution_count": 58,
   "id": "7b6d870c",
   "metadata": {},
   "outputs": [
    {
     "name": "stderr",
     "output_type": "stream",
     "text": [
      "c:\\users\\sony\\appdata\\local\\programs\\python\\python36\\lib\\site-packages\\sklearn\\naive_bayes.py:452: RuntimeWarning: invalid value encountered in log\n",
      "  n_ij = - 0.5 * np.sum(np.log(2. * np.pi * self.sigma_[i, :]))\n",
      "c:\\users\\sony\\appdata\\local\\programs\\python\\python36\\lib\\site-packages\\sklearn\\metrics\\_classification.py:1248: UndefinedMetricWarning: Precision and F-score are ill-defined and being set to 0.0 in labels with no predicted samples. Use `zero_division` parameter to control this behavior.\n",
      "  _warn_prf(average, modifier, msg_start, len(result))\n"
     ]
    },
    {
     "name": "stdout",
     "output_type": "stream",
     "text": [
      "(0.5833503014311704, 0.7637737239727289, 0.6614797504945593, None)\n",
      "(0.772313892122559, 0.7846569621030649, 0.7245454398816772, None)\n",
      "(0.8071319962378656, 0.7710828573183466, 0.6794566318071685, None)\n",
      "(0.8198803532066709, 0.7689331122166944, 0.6736266182921432, None)\n",
      "(0.822638122013989, 0.768994533505313, 0.6736593981838401, None)\n",
      "(0.822638122013989, 0.768994533505313, 0.6736593981838401, None)\n",
      "(0.822638122013989, 0.768994533505313, 0.6736593981838401, None)\n",
      "(0.8220593785193069, 0.7680117928874147, 0.6713997598804033, None)\n",
      "(0.5833503014311704, 0.7637737239727289, 0.6614797504945593, None)\n"
     ]
    },
    {
     "name": "stderr",
     "output_type": "stream",
     "text": [
      "c:\\users\\sony\\appdata\\local\\programs\\python\\python36\\lib\\site-packages\\sklearn\\metrics\\_classification.py:1248: UndefinedMetricWarning: Precision and F-score are ill-defined and being set to 0.0 in labels with no predicted samples. Use `zero_division` parameter to control this behavior.\n",
      "  _warn_prf(average, modifier, msg_start, len(result))\n",
      "c:\\users\\sony\\appdata\\local\\programs\\python\\python36\\lib\\site-packages\\sklearn\\metrics\\_classification.py:1248: UndefinedMetricWarning: Precision and F-score are ill-defined and being set to 0.0 in labels with no predicted samples. Use `zero_division` parameter to control this behavior.\n",
      "  _warn_prf(average, modifier, msg_start, len(result))\n"
     ]
    },
    {
     "name": "stdout",
     "output_type": "stream",
     "text": [
      "(0.5833503014311704, 0.7637737239727289, 0.6614797504945593, None)\n",
      "(0.5833503014311704, 0.7637737239727289, 0.6614797504945593, None)\n",
      "(0.5833503014311704, 0.7637737239727289, 0.6614797504945593, None)\n"
     ]
    },
    {
     "name": "stderr",
     "output_type": "stream",
     "text": [
      "c:\\users\\sony\\appdata\\local\\programs\\python\\python36\\lib\\site-packages\\sklearn\\metrics\\_classification.py:1248: UndefinedMetricWarning: Precision and F-score are ill-defined and being set to 0.0 in labels with no predicted samples. Use `zero_division` parameter to control this behavior.\n",
      "  _warn_prf(average, modifier, msg_start, len(result))\n",
      "c:\\users\\sony\\appdata\\local\\programs\\python\\python36\\lib\\site-packages\\sklearn\\metrics\\_classification.py:1248: UndefinedMetricWarning: Precision and F-score are ill-defined and being set to 0.0 in labels with no predicted samples. Use `zero_division` parameter to control this behavior.\n",
      "  _warn_prf(average, modifier, msg_start, len(result))\n"
     ]
    }
   ],
   "source": [
    "import math\n",
    "for i in range (3,15):\n",
    "    nb= GaussianNB(var_smoothing= i*(math.e)-9 ).fit(x_train, y_train)\n",
    "    y_pred_nb= nb.predict(x_test)\n",
    "    print(precision_recall_fscore_support(y_test, y_pred_nb, average='weighted'))\n"
   ]
  },
  {
   "cell_type": "code",
   "execution_count": 85,
   "id": "37f667e8",
   "metadata": {},
   "outputs": [
    {
     "name": "stdout",
     "output_type": "stream",
     "text": [
      "              precision    recall  f1-score   support\n",
      "\n",
      "           0       0.82      0.95      0.88     12435\n",
      "           1       0.68      0.35      0.46      3846\n",
      "\n",
      "    accuracy                           0.81     16281\n",
      "   macro avg       0.75      0.65      0.67     16281\n",
      "weighted avg       0.79      0.81      0.78     16281\n",
      "\n",
      "Confusion matrix, without normalization\n",
      "[[11799   636]\n",
      " [ 2515  1331]]\n"
     ]
    },
    {
     "data": {
      "image/png": "[encoded data removed]",
      "text/plain": [
       "<Figure size 432x432 with 2 Axes>"
      ]
     },
     "metadata": {
      "needs_background": "light"
     },
     "output_type": "display_data"
    }
   ],
   "source": [
    "cnf_matrix_nb = confusion_matrix(y_test, y_pred_nb)\n",
    "np.set_printoptions(precision=2)\n",
    "\n",
    "print(classification_report(y_test, y_pred_nb))\n",
    "\n",
    "# Plot non-normalized confusion matrix\n",
    "plt.figure(figsize =[6,6])\n",
    "plot_confusion_matrix(cnf_matrix_nb , classes=['<50','>50'] ,  title='Confusion matrix NaiveBayes')"
   ]
  },
  {
   "cell_type": "code",
   "execution_count": 60,
   "id": "8a3cdea3",
   "metadata": {},
   "outputs": [
    {
     "data": {
      "text/plain": [
       "array([    0,     1,    28, ..., 32536, 32545, 32557])"
      ]
     },
     "execution_count": 60,
     "metadata": {},
     "output_type": "execute_result"
    }
   ],
   "source": [
    "support_vector_indices = clf.support_\n",
    "support_vector_indices"
   ]
  },
  {
   "cell_type": "code",
   "execution_count": 61,
   "id": "df88caa1",
   "metadata": {},
   "outputs": [
    {
     "name": "stdout",
     "output_type": "stream",
     "text": [
      "[4080 4080]\n"
     ]
    }
   ],
   "source": [
    "support_vectors_per_class = clf.n_support_\n",
    "print(support_vectors_per_class)"
   ]
  },
  {
   "cell_type": "code",
   "execution_count": 89,
   "id": "6a229912",
   "metadata": {},
   "outputs": [
    {
     "data": {
      "image/png": "[encoded data removed]",
      "text/plain": [
       "<Figure size 432x288 with 1 Axes>"
      ]
     },
     "metadata": {
      "needs_background": "light"
     },
     "output_type": "display_data"
    }
   ],
   "source": [
    "# Get support vectors themselves\n",
    "support_vectors = clf.support_vectors_\n",
    "\n",
    "# Visualize support vectors\n",
    "plt.scatter(x_train[0], x_train[3])\n",
    "plt.scatter(support_vectors[:,0], support_vectors[:,3], color='red')\n",
    "plt.title('Linearly separable data with support vectors')\n",
    "plt.xlabel('X1')\n",
    "plt.ylabel('X2')\n",
    "plt.show()"
   ]
  },
  {
   "cell_type": "code",
   "execution_count": 87,
   "id": "90bf5832",
   "metadata": {},
   "outputs": [
    {
     "name": "stdout",
     "output_type": "stream",
     "text": [
      "[0 0 0 1 0 0 0 1 0 0 1 0 0 0 1 0 0 0 0 0]\n",
      "[0 0 1 1 0 0 0 1 0 0 1 0 0 0 1 1 0 0 0 1]\n"
     ]
    }
   ],
   "source": [
    "print(y_pred_nb[0:20])\n",
    "print(y_test[0:20])"
   ]
  },
  {
   "cell_type": "code",
   "execution_count": null,
   "id": "5ac919ce",
   "metadata": {},
   "outputs": [],
   "source": [
    "# قسمت (مصور سازی پایین) که فرصت نشد یاد بگیرم ! فقط با استفاده از کد های موجود شبیه سازی کردم"
   ]
  },
  {
   "cell_type": "code",
   "execution_count": null,
   "id": "0aac3b21",
   "metadata": {},
   "outputs": [],
   "source": []
  },
  {
   "cell_type": "code",
   "execution_count": 64,
   "id": "50876be4",
   "metadata": {},
   "outputs": [],
   "source": [
    "import matplotlib.pyplot as plt\n",
    "import pandas as pd\n",
    "from sklearn import datasets, neighbors\n",
    "from mlxtend.plotting import plot_decision_regions"
   ]
  },
  {
   "cell_type": "code",
   "execution_count": 69,
   "id": "f9fe3048",
   "metadata": {},
   "outputs": [],
   "source": [
    "# Plotting decision region\n",
    "#plot_decision_regions((x_train).values , (y_train).values , clf=knn, legend=2)"
   ]
  },
  {
   "cell_type": "code",
   "execution_count": 113,
   "id": "144ebaf0",
   "metadata": {},
   "outputs": [],
   "source": [
    "import plotly.express as px\n",
    "import numpy as np\n",
    "from sklearn.datasets import make_moons\n",
    "from sklearn.model_selection import train_test_split\n",
    "from sklearn.neighbors import KNeighborsClassifier\n"
   ]
  },
  {
   "cell_type": "code",
   "execution_count": 112,
   "id": "8332fc0f",
   "metadata": {},
   "outputs": [],
   "source": [
    "from dash import Dash, dcc, html, Input, Output\n",
    "from sklearn.model_selection import train_test_split\n",
    "from sklearn.neighbors import KNeighborsClassifier\n",
    "from sklearn.datasets import make_moons\n",
    "import plotly.graph_objects as go\n",
    "import numpy as np\n",
    "\n",
    "app = Dash(__name__)\n",
    "\n",
    "app.layout = html.Div([\n",
    "    html.H4('Explanatory k-NN plot'),\n",
    "    dcc.Graph(id=\"graph\"),\n",
    "    html.P(\"Select number of neighbors:\"),\n",
    "    dcc.Slider(\n",
    "        id='slider-neighbors',\n",
    "        min=5, max=20, step=1, value=12,\n",
    "        marks={i: str(i) for i in range(5,21,5)})\n",
    "])\n",
    "\n",
    "\n",
    "@app.callback(\n",
    "    Output(\"graph\", \"figure\"), \n",
    "    Input(\"slider-neighbors\", \"value\"))\n",
    "def train_and_display_model(k):\n",
    "    X, y = make_moons(noise=0.3, random_state=0) # replace with your own data source\n",
    "    xrange, yrange = build_range(X, y)\n",
    "    xx, yy = np.meshgrid(xrange, yrange)\n",
    "    test_input = np.c_[xx.ravel(), yy.ravel()]\n",
    "\n",
    "    clf = KNeighborsClassifier(k, weights='uniform')\n",
    "    clf.fit(X, y)\n",
    "    Z = clf.predict_proba(test_input)[:, 1]\n",
    "    Z = Z.reshape(xx.shape)\n",
    "    fig = build_figure(X, y, Z, xrange, yrange)\n",
    "\n",
    "    return fig\n",
    "\n",
    "\n",
    "# ############ HELPER FUNCTIONS ############\n",
    "def build_range(X, y, mesh_size=.02, margin=.25):\n",
    "    \"\"\"\n",
    "    Create an x range and a y range for building meshgrid\n",
    "    \"\"\"\n",
    "    x_min = X[:, 0].min() - margin\n",
    "    x_max = X[:, 0].max() + margin\n",
    "    y_min = X[:, 1].min() - margin\n",
    "    y_max = X[:, 1].max() + margin\n",
    "\n",
    "    xrange = np.arange(x_min, x_max, mesh_size)\n",
    "    yrange = np.arange(y_min, y_max, mesh_size)\n",
    "    return xrange, yrange\n",
    "\n",
    "\n",
    "def build_figure(X, y, Z, xrange, yrange):\n",
    "    X_train, X_test, y_train, y_test = train_test_split(\n",
    "        X, y.astype(str), test_size=0.25, random_state=0)\n",
    "\n",
    "    trace_specs = [\n",
    "        [X_train, y_train, '0', 'Train', 'square'],\n",
    "        [X_train, y_train, '1', 'Train', 'circle'],\n",
    "        [X_test, y_test, '0', 'Test', 'square-dot'],\n",
    "        [X_test, y_test, '1', 'Test', 'circle-dot']\n",
    "    ]\n",
    "\n",
    "    fig = go.Figure(data=[\n",
    "        go.Scatter(\n",
    "            x=X[y==label, 0], y=X[y==label, 1],\n",
    "            name=f'{split}, y={label}',\n",
    "            mode='markers', marker_symbol=marker\n",
    "        )\n",
    "        for X, y, label, split, marker in trace_specs\n",
    "    ])\n",
    "    fig.update_traces(\n",
    "        marker_size=12, marker_line_width=1.5,\n",
    "        marker_color=\"lightyellow\"\n",
    "    )\n",
    "\n",
    "    fig.add_trace(\n",
    "        go.Contour(\n",
    "            x=xrange, y=yrange, z=Z,\n",
    "            showscale=False, colorscale='RdBu',\n",
    "            opacity=0.4, name='Score', hoverinfo='skip'\n",
    "        )\n",
    "    )\n",
    "\n",
    "    return fig"
   ]
  },
  {
   "cell_type": "code",
   "execution_count": 93,
   "id": "8b36af2f",
   "metadata": {},
   "outputs": [],
   "source": [
    "# test classification dataset\n",
    "from sklearn.datasets import make_classification\n",
    "# get a voting ensemble of models\n",
    "def get_voting():\n",
    "\t# define the base models\n",
    "\tmodels = list()\n",
    "\tmodels.append(('knn1', KNeighborsClassifier(n_neighbors=1)))\n",
    "\tmodels.append(('knn3', KNeighborsClassifier(n_neighbors=3)))\n",
    "\tmodels.append(('knn5', KNeighborsClassifier(n_neighbors=5)))\n",
    "\tmodels.append(('knn7', KNeighborsClassifier(n_neighbors=7)))\n",
    "\tmodels.append(('knn9', KNeighborsClassifier(n_neighbors=9)))\n",
    "\t# define the voting ensemble\n",
    "\tensemble = VotingClassifier(estimators=models, voting='hard')\n",
    "\treturn ensemble"
   ]
  },
  {
   "cell_type": "code",
   "execution_count": 94,
   "id": "314b0dcd",
   "metadata": {},
   "outputs": [],
   "source": [
    "# get a list of models to evaluate\n",
    "def get_models():\n",
    "\tmodels = dict()\n",
    "\tmodels['knn1'] = KNeighborsClassifier(n_neighbors=1)\n",
    "\tmodels['knn3'] = KNeighborsClassifier(n_neighbors=3)\n",
    "\tmodels['knn5'] = KNeighborsClassifier(n_neighbors=5)\n",
    "\tmodels['knn7'] = KNeighborsClassifier(n_neighbors=7)\n",
    "\tmodels['knn9'] = KNeighborsClassifier(n_neighbors=9)\n",
    "\tmodels['hard_voting'] = get_voting()\n",
    "\treturn models"
   ]
  },
  {
   "cell_type": "code",
   "execution_count": 95,
   "id": "cf0ffa14",
   "metadata": {},
   "outputs": [],
   "source": [
    "# evaluate a give model using cross-validation\n",
    "def evaluate_model(model, X, y):\n",
    "\tcv = RepeatedStratifiedKFold(n_splits=10, n_repeats=3, random_state=1)\n",
    "\tscores = cross_val_score(model, X, y, scoring='accuracy', cv=cv, n_jobs=-1, error_score='raise')\n",
    "\treturn scores"
   ]
  },
  {
   "cell_type": "code",
   "execution_count": 96,
   "id": "96e49ede",
   "metadata": {},
   "outputs": [
    {
     "name": "stdout",
     "output_type": "stream",
     "text": [
      ">knn1 0.873 (0.030)\n",
      ">knn3 0.889 (0.038)\n",
      ">knn5 0.895 (0.031)\n",
      ">knn7 0.899 (0.035)\n",
      ">knn9 0.900 (0.033)\n",
      ">hard_voting 0.902 (0.034)\n"
     ]
    },
    {
     "data": {
      "image/png": "[encoded data removed]",
      "text/plain": [
       "<Figure size 432x288 with 1 Axes>"
      ]
     },
     "metadata": {
      "needs_background": "light"
     },
     "output_type": "display_data"
    }
   ],
   "source": [
    "# compare hard voting to standalone classifiers\n",
    "from numpy import mean\n",
    "from numpy import std\n",
    "from sklearn.datasets import make_classification\n",
    "from sklearn.model_selection import cross_val_score\n",
    "from sklearn.model_selection import RepeatedStratifiedKFold\n",
    "from sklearn.neighbors import KNeighborsClassifier\n",
    "from sklearn.ensemble import VotingClassifier\n",
    "from matplotlib import pyplot\n",
    "\n",
    "# get the dataset\n",
    "def get_dataset():\n",
    "\tX, y = make_classification(n_samples=1000, n_features=20, n_informative=15, n_redundant=5, random_state=2)\n",
    "\treturn X, y\n",
    "\n",
    "# get a voting ensemble of models\n",
    "def get_voting():\n",
    "\t# define the base models\n",
    "\tmodels = list()\n",
    "\tmodels.append(('knn1', KNeighborsClassifier(n_neighbors=1)))\n",
    "\tmodels.append(('knn3', KNeighborsClassifier(n_neighbors=3)))\n",
    "\tmodels.append(('knn5', KNeighborsClassifier(n_neighbors=5)))\n",
    "\tmodels.append(('knn7', KNeighborsClassifier(n_neighbors=7)))\n",
    "\tmodels.append(('knn9', KNeighborsClassifier(n_neighbors=9)))\n",
    "\t# define the voting ensemble\n",
    "\tensemble = VotingClassifier(estimators=models, voting='hard')\n",
    "\treturn ensemble\n",
    "\n",
    "# get a list of models to evaluate\n",
    "def get_models():\n",
    "\tmodels = dict()\n",
    "\tmodels['knn1'] = KNeighborsClassifier(n_neighbors=1)\n",
    "\tmodels['knn3'] = KNeighborsClassifier(n_neighbors=3)\n",
    "\tmodels['knn5'] = KNeighborsClassifier(n_neighbors=5)\n",
    "\tmodels['knn7'] = KNeighborsClassifier(n_neighbors=7)\n",
    "\tmodels['knn9'] = KNeighborsClassifier(n_neighbors=9)\n",
    "\tmodels['hard_voting'] = get_voting()\n",
    "\treturn models\n",
    "\n",
    "# evaluate a give model using cross-validation\n",
    "def evaluate_model(model, X, y):\n",
    "\tcv = RepeatedStratifiedKFold(n_splits=10, n_repeats=3, random_state=1)\n",
    "\tscores = cross_val_score(model, X, y, scoring='accuracy', cv=cv, n_jobs=-1, error_score='raise')\n",
    "\treturn scores\n",
    "\n",
    "# define dataset\n",
    "X, y = get_dataset()\n",
    "# get the models to evaluate\n",
    "models = get_models()\n",
    "# evaluate the models and store results\n",
    "results, names = list(), list()\n",
    "for name, model in models.items():\n",
    "\tscores = evaluate_model(model, X, y)\n",
    "\tresults.append(scores)\n",
    "\tnames.append(name)\n",
    "\tprint('>%s %.3f (%.3f)' % (name, mean(scores), std(scores)))\n",
    "# plot model performance for comparison\n",
    "pyplot.boxplot(results, labels=names, showmeans=True)\n",
    "pyplot.show()"
   ]
  },
  {
   "cell_type": "code",
   "execution_count": 102,
   "id": "f746a98a",
   "metadata": {},
   "outputs": [
    {
     "ename": "ModuleNotFoundError",
     "evalue": "No module named 'sklearn.datasets.samples_generator'",
     "output_type": "error",
     "traceback": [
      "\u001b[1;31m---------------------------------------------------------------------------\u001b[0m",
      "\u001b[1;31mModuleNotFoundError\u001b[0m                       Traceback (most recent call last)",
      "\u001b[1;32m<ipython-input-102-cb1f2f7ca672>\u001b[0m in \u001b[0;36m<module>\u001b[1;34m\u001b[0m\n\u001b[1;32m----> 1\u001b[1;33m \u001b[1;32mfrom\u001b[0m \u001b[0msklearn\u001b[0m\u001b[1;33m.\u001b[0m\u001b[0mdatasets\u001b[0m\u001b[1;33m.\u001b[0m\u001b[0msamples_generator\u001b[0m \u001b[1;32mimport\u001b[0m \u001b[0mmake_circles\u001b[0m\u001b[1;33m\u001b[0m\u001b[0m\n\u001b[0m\u001b[0;32m      2\u001b[0m \u001b[0mx_train\u001b[0m \u001b[1;33m,\u001b[0m \u001b[0my_train\u001b[0m \u001b[1;33m=\u001b[0m \u001b[0mmake_circles\u001b[0m\u001b[1;33m(\u001b[0m\u001b[1;36m100\u001b[0m\u001b[1;33m,\u001b[0m \u001b[0mfactor\u001b[0m\u001b[1;33m=\u001b[0m\u001b[1;36m.1\u001b[0m\u001b[1;33m,\u001b[0m \u001b[0mnoise\u001b[0m\u001b[1;33m=\u001b[0m\u001b[1;36m.1\u001b[0m\u001b[1;33m)\u001b[0m\u001b[1;33m\u001b[0m\u001b[0m\n\u001b[0;32m      3\u001b[0m \u001b[0mX\u001b[0m\u001b[1;33m=\u001b[0m \u001b[0mx_train\u001b[0m  \u001b[1;31m#y_train\u001b[0m\u001b[1;33m\u001b[0m\u001b[0m\n\u001b[0;32m      4\u001b[0m \u001b[0mplt\u001b[0m\u001b[1;33m.\u001b[0m\u001b[0mscatter\u001b[0m\u001b[1;33m(\u001b[0m\u001b[0mX\u001b[0m\u001b[1;33m[\u001b[0m\u001b[1;33m:\u001b[0m\u001b[1;33m,\u001b[0m \u001b[1;36m0\u001b[0m\u001b[1;33m]\u001b[0m\u001b[1;33m,\u001b[0m \u001b[0mX\u001b[0m\u001b[1;33m[\u001b[0m\u001b[1;33m:\u001b[0m\u001b[1;33m,\u001b[0m \u001b[1;36m1\u001b[0m\u001b[1;33m]\u001b[0m\u001b[1;33m,\u001b[0m \u001b[0mc\u001b[0m\u001b[1;33m=\u001b[0m\u001b[0my\u001b[0m\u001b[1;33m,\u001b[0m \u001b[0ms\u001b[0m\u001b[1;33m=\u001b[0m\u001b[1;36m50\u001b[0m\u001b[1;33m,\u001b[0m \u001b[0mcmap\u001b[0m\u001b[1;33m=\u001b[0m\u001b[1;34m'autumn'\u001b[0m\u001b[1;33m)\u001b[0m\u001b[1;33m\u001b[0m\u001b[0m\n\u001b[0;32m      5\u001b[0m \u001b[0mplt\u001b[0m\u001b[1;33m.\u001b[0m\u001b[0mscatter\u001b[0m\u001b[1;33m(\u001b[0m\u001b[0mX\u001b[0m\u001b[1;33m.\u001b[0m\u001b[0miloc\u001b[0m\u001b[1;33m[\u001b[0m\u001b[1;33m:\u001b[0m\u001b[1;33m,\u001b[0m \u001b[1;36m0\u001b[0m\u001b[1;33m]\u001b[0m\u001b[1;33m,\u001b[0m \u001b[0mX\u001b[0m\u001b[1;33m.\u001b[0m\u001b[0miloc\u001b[0m\u001b[1;33m[\u001b[0m\u001b[1;33m:\u001b[0m\u001b[1;33m,\u001b[0m \u001b[1;36m1\u001b[0m\u001b[1;33m]\u001b[0m\u001b[1;33m,\u001b[0m \u001b[0mc\u001b[0m\u001b[1;33m=\u001b[0m\u001b[0my\u001b[0m\u001b[1;33m,\u001b[0m \u001b[0ms\u001b[0m\u001b[1;33m=\u001b[0m\u001b[1;36m50\u001b[0m\u001b[1;33m,\u001b[0m \u001b[0mcmap\u001b[0m\u001b[1;33m=\u001b[0m\u001b[1;34m'autumn'\u001b[0m\u001b[1;33m)\u001b[0m\u001b[1;33m\u001b[0m\u001b[0m\n",
      "\u001b[1;31mModuleNotFoundError\u001b[0m: No module named 'sklearn.datasets.samples_generator'"
     ]
    }
   ],
   "source": [
    "from sklearn.datasets.samples_generator import make_circles\n",
    "x_train , y_train = make_circles(100, factor=.1, noise=.1)\n",
    "X= x_train  #y_train \n",
    "plt.scatter(X[:, 0], X[:, 1], c=y, s=50, cmap='autumn')\n",
    "plt.scatter(X.iloc[:, 0], X.iloc[:, 1], c=y, s=50, cmap='autumn')"
   ]
  },
  {
   "cell_type": "code",
   "execution_count": 107,
   "id": "3c22a6ed",
   "metadata": {},
   "outputs": [
    {
     "ename": "AttributeError",
     "evalue": "predict_proba is not available when  probability=False",
     "output_type": "error",
     "traceback": [
      "\u001b[1;31m---------------------------------------------------------------------------\u001b[0m",
      "\u001b[1;31mAttributeError\u001b[0m                            Traceback (most recent call last)",
      "\u001b[1;32m<ipython-input-107-112b553c8033>\u001b[0m in \u001b[0;36m<module>\u001b[1;34m\u001b[0m\n\u001b[0;32m     18\u001b[0m         voting='soft')\n\u001b[0;32m     19\u001b[0m \u001b[0meclf2\u001b[0m \u001b[1;33m=\u001b[0m \u001b[0meclf2\u001b[0m\u001b[1;33m.\u001b[0m\u001b[0mfit\u001b[0m\u001b[1;33m(\u001b[0m\u001b[0mX\u001b[0m\u001b[1;33m,\u001b[0m \u001b[0my_train\u001b[0m\u001b[1;33m)\u001b[0m\u001b[1;33m\u001b[0m\u001b[0m\n\u001b[1;32m---> 20\u001b[1;33m \u001b[0mprint\u001b[0m\u001b[1;33m(\u001b[0m\u001b[0meclf2\u001b[0m\u001b[1;33m.\u001b[0m\u001b[0mpredict\u001b[0m\u001b[1;33m(\u001b[0m\u001b[0mX\u001b[0m\u001b[1;33m)\u001b[0m\u001b[1;33m)\u001b[0m\u001b[1;33m\u001b[0m\u001b[0m\n\u001b[0m",
      "\u001b[1;32mc:\\users\\sony\\appdata\\local\\programs\\python\\python36\\lib\\site-packages\\sklearn\\ensemble\\_voting.py\u001b[0m in \u001b[0;36mpredict\u001b[1;34m(self, X)\u001b[0m\n\u001b[0;32m    307\u001b[0m         \u001b[0mcheck_is_fitted\u001b[0m\u001b[1;33m(\u001b[0m\u001b[0mself\u001b[0m\u001b[1;33m)\u001b[0m\u001b[1;33m\u001b[0m\u001b[0m\n\u001b[0;32m    308\u001b[0m         \u001b[1;32mif\u001b[0m \u001b[0mself\u001b[0m\u001b[1;33m.\u001b[0m\u001b[0mvoting\u001b[0m \u001b[1;33m==\u001b[0m \u001b[1;34m'soft'\u001b[0m\u001b[1;33m:\u001b[0m\u001b[1;33m\u001b[0m\u001b[0m\n\u001b[1;32m--> 309\u001b[1;33m             \u001b[0mmaj\u001b[0m \u001b[1;33m=\u001b[0m \u001b[0mnp\u001b[0m\u001b[1;33m.\u001b[0m\u001b[0margmax\u001b[0m\u001b[1;33m(\u001b[0m\u001b[0mself\u001b[0m\u001b[1;33m.\u001b[0m\u001b[0mpredict_proba\u001b[0m\u001b[1;33m(\u001b[0m\u001b[0mX\u001b[0m\u001b[1;33m)\u001b[0m\u001b[1;33m,\u001b[0m \u001b[0maxis\u001b[0m\u001b[1;33m=\u001b[0m\u001b[1;36m1\u001b[0m\u001b[1;33m)\u001b[0m\u001b[1;33m\u001b[0m\u001b[0m\n\u001b[0m\u001b[0;32m    310\u001b[0m \u001b[1;33m\u001b[0m\u001b[0m\n\u001b[0;32m    311\u001b[0m         \u001b[1;32melse\u001b[0m\u001b[1;33m:\u001b[0m  \u001b[1;31m# 'hard' voting\u001b[0m\u001b[1;33m\u001b[0m\u001b[0m\n",
      "\u001b[1;32mc:\\users\\sony\\appdata\\local\\programs\\python\\python36\\lib\\site-packages\\sklearn\\ensemble\\_voting.py\u001b[0m in \u001b[0;36m_predict_proba\u001b[1;34m(self, X)\u001b[0m\n\u001b[0;32m    327\u001b[0m         \u001b[1;34m\"\"\"Predict class probabilities for X in 'soft' voting.\"\"\"\u001b[0m\u001b[1;33m\u001b[0m\u001b[0m\n\u001b[0;32m    328\u001b[0m         \u001b[0mcheck_is_fitted\u001b[0m\u001b[1;33m(\u001b[0m\u001b[0mself\u001b[0m\u001b[1;33m)\u001b[0m\u001b[1;33m\u001b[0m\u001b[0m\n\u001b[1;32m--> 329\u001b[1;33m         avg = np.average(self._collect_probas(X), axis=0,\n\u001b[0m\u001b[0;32m    330\u001b[0m                          weights=self._weights_not_none)\n\u001b[0;32m    331\u001b[0m         \u001b[1;32mreturn\u001b[0m \u001b[0mavg\u001b[0m\u001b[1;33m\u001b[0m\u001b[0m\n",
      "\u001b[1;32mc:\\users\\sony\\appdata\\local\\programs\\python\\python36\\lib\\site-packages\\sklearn\\ensemble\\_voting.py\u001b[0m in \u001b[0;36m_collect_probas\u001b[1;34m(self, X)\u001b[0m\n\u001b[0;32m    322\u001b[0m     \u001b[1;32mdef\u001b[0m \u001b[0m_collect_probas\u001b[0m\u001b[1;33m(\u001b[0m\u001b[0mself\u001b[0m\u001b[1;33m,\u001b[0m \u001b[0mX\u001b[0m\u001b[1;33m)\u001b[0m\u001b[1;33m:\u001b[0m\u001b[1;33m\u001b[0m\u001b[0m\n\u001b[0;32m    323\u001b[0m         \u001b[1;34m\"\"\"Collect results from clf.predict calls.\"\"\"\u001b[0m\u001b[1;33m\u001b[0m\u001b[0m\n\u001b[1;32m--> 324\u001b[1;33m         \u001b[1;32mreturn\u001b[0m \u001b[0mnp\u001b[0m\u001b[1;33m.\u001b[0m\u001b[0masarray\u001b[0m\u001b[1;33m(\u001b[0m\u001b[1;33m[\u001b[0m\u001b[0mclf\u001b[0m\u001b[1;33m.\u001b[0m\u001b[0mpredict_proba\u001b[0m\u001b[1;33m(\u001b[0m\u001b[0mX\u001b[0m\u001b[1;33m)\u001b[0m \u001b[1;32mfor\u001b[0m \u001b[0mclf\u001b[0m \u001b[1;32min\u001b[0m \u001b[0mself\u001b[0m\u001b[1;33m.\u001b[0m\u001b[0mestimators_\u001b[0m\u001b[1;33m]\u001b[0m\u001b[1;33m)\u001b[0m\u001b[1;33m\u001b[0m\u001b[0m\n\u001b[0m\u001b[0;32m    325\u001b[0m \u001b[1;33m\u001b[0m\u001b[0m\n\u001b[0;32m    326\u001b[0m     \u001b[1;32mdef\u001b[0m \u001b[0m_predict_proba\u001b[0m\u001b[1;33m(\u001b[0m\u001b[0mself\u001b[0m\u001b[1;33m,\u001b[0m \u001b[0mX\u001b[0m\u001b[1;33m)\u001b[0m\u001b[1;33m:\u001b[0m\u001b[1;33m\u001b[0m\u001b[0m\n",
      "\u001b[1;32mc:\\users\\sony\\appdata\\local\\programs\\python\\python36\\lib\\site-packages\\sklearn\\ensemble\\_voting.py\u001b[0m in \u001b[0;36m<listcomp>\u001b[1;34m(.0)\u001b[0m\n\u001b[0;32m    322\u001b[0m     \u001b[1;32mdef\u001b[0m \u001b[0m_collect_probas\u001b[0m\u001b[1;33m(\u001b[0m\u001b[0mself\u001b[0m\u001b[1;33m,\u001b[0m \u001b[0mX\u001b[0m\u001b[1;33m)\u001b[0m\u001b[1;33m:\u001b[0m\u001b[1;33m\u001b[0m\u001b[0m\n\u001b[0;32m    323\u001b[0m         \u001b[1;34m\"\"\"Collect results from clf.predict calls.\"\"\"\u001b[0m\u001b[1;33m\u001b[0m\u001b[0m\n\u001b[1;32m--> 324\u001b[1;33m         \u001b[1;32mreturn\u001b[0m \u001b[0mnp\u001b[0m\u001b[1;33m.\u001b[0m\u001b[0masarray\u001b[0m\u001b[1;33m(\u001b[0m\u001b[1;33m[\u001b[0m\u001b[0mclf\u001b[0m\u001b[1;33m.\u001b[0m\u001b[0mpredict_proba\u001b[0m\u001b[1;33m(\u001b[0m\u001b[0mX\u001b[0m\u001b[1;33m)\u001b[0m \u001b[1;32mfor\u001b[0m \u001b[0mclf\u001b[0m \u001b[1;32min\u001b[0m \u001b[0mself\u001b[0m\u001b[1;33m.\u001b[0m\u001b[0mestimators_\u001b[0m\u001b[1;33m]\u001b[0m\u001b[1;33m)\u001b[0m\u001b[1;33m\u001b[0m\u001b[0m\n\u001b[0m\u001b[0;32m    325\u001b[0m \u001b[1;33m\u001b[0m\u001b[0m\n\u001b[0;32m    326\u001b[0m     \u001b[1;32mdef\u001b[0m \u001b[0m_predict_proba\u001b[0m\u001b[1;33m(\u001b[0m\u001b[0mself\u001b[0m\u001b[1;33m,\u001b[0m \u001b[0mX\u001b[0m\u001b[1;33m)\u001b[0m\u001b[1;33m:\u001b[0m\u001b[1;33m\u001b[0m\u001b[0m\n",
      "\u001b[1;32mc:\\users\\sony\\appdata\\local\\programs\\python\\python36\\lib\\site-packages\\sklearn\\svm\\_base.py\u001b[0m in \u001b[0;36mpredict_proba\u001b[1;34m(self)\u001b[0m\n\u001b[0;32m    664\u001b[0m         \u001b[0mdatasets\u001b[0m\u001b[1;33m.\u001b[0m\u001b[1;33m\u001b[0m\u001b[0m\n\u001b[0;32m    665\u001b[0m         \"\"\"\n\u001b[1;32m--> 666\u001b[1;33m         \u001b[0mself\u001b[0m\u001b[1;33m.\u001b[0m\u001b[0m_check_proba\u001b[0m\u001b[1;33m(\u001b[0m\u001b[1;33m)\u001b[0m\u001b[1;33m\u001b[0m\u001b[0m\n\u001b[0m\u001b[0;32m    667\u001b[0m         \u001b[1;32mreturn\u001b[0m \u001b[0mself\u001b[0m\u001b[1;33m.\u001b[0m\u001b[0m_predict_proba\u001b[0m\u001b[1;33m\u001b[0m\u001b[0m\n\u001b[0;32m    668\u001b[0m \u001b[1;33m\u001b[0m\u001b[0m\n",
      "\u001b[1;32mc:\\users\\sony\\appdata\\local\\programs\\python\\python36\\lib\\site-packages\\sklearn\\svm\\_base.py\u001b[0m in \u001b[0;36m_check_proba\u001b[1;34m(self)\u001b[0m\n\u001b[0;32m    631\u001b[0m     \u001b[1;32mdef\u001b[0m \u001b[0m_check_proba\u001b[0m\u001b[1;33m(\u001b[0m\u001b[0mself\u001b[0m\u001b[1;33m)\u001b[0m\u001b[1;33m:\u001b[0m\u001b[1;33m\u001b[0m\u001b[0m\n\u001b[0;32m    632\u001b[0m         \u001b[1;32mif\u001b[0m \u001b[1;32mnot\u001b[0m \u001b[0mself\u001b[0m\u001b[1;33m.\u001b[0m\u001b[0mprobability\u001b[0m\u001b[1;33m:\u001b[0m\u001b[1;33m\u001b[0m\u001b[0m\n\u001b[1;32m--> 633\u001b[1;33m             raise AttributeError(\"predict_proba is not available when \"\n\u001b[0m\u001b[0;32m    634\u001b[0m                                  \" probability=False\")\n\u001b[0;32m    635\u001b[0m         \u001b[1;32mif\u001b[0m \u001b[0mself\u001b[0m\u001b[1;33m.\u001b[0m\u001b[0m_impl\u001b[0m \u001b[1;32mnot\u001b[0m \u001b[1;32min\u001b[0m \u001b[1;33m(\u001b[0m\u001b[1;34m'c_svc'\u001b[0m\u001b[1;33m,\u001b[0m \u001b[1;34m'nu_svc'\u001b[0m\u001b[1;33m)\u001b[0m\u001b[1;33m:\u001b[0m\u001b[1;33m\u001b[0m\u001b[0m\n",
      "\u001b[1;31mAttributeError\u001b[0m: predict_proba is not available when  probability=False"
     ]
    }
   ],
   "source": [
    "\n",
    "from sklearn.ensemble import VotingClassifier\n",
    "clf1 = knn\n",
    "clf2 = clf.fit(x_train,y_train)\n",
    "clf3 = nb\n",
    "\n",
    "eclf1 = VotingClassifier(estimators=[\n",
    "...         ('lr', clf1), ('rf', clf2), ('gnb', clf3)], voting='hard')\n",
    "eclf1 = eclf1.fit(x_train, y_train)\n",
    "X= x_train\n",
    "np.array_equal(eclf1.named_estimators_.lr.predict(X),\n",
    "...                eclf1.named_estimators_['lr'].predict(X))\n",
    "\n",
    "eclf2 = VotingClassifier(estimators=[\n",
    "...         ('lr', clf1), ('rf', clf2), ('gnb', clf3)],\n",
    "...         voting='soft')\n",
    "eclf2 = eclf2.fit(X, y_train)\n",
    "print(eclf2.predict(X))\n"
   ]
  },
  {
   "cell_type": "code",
   "execution_count": 108,
   "id": "4add6c8c",
   "metadata": {},
   "outputs": [
    {
     "ename": "NameError",
     "evalue": "name 'X_train' is not defined",
     "output_type": "error",
     "traceback": [
      "\u001b[1;31m---------------------------------------------------------------------------\u001b[0m",
      "\u001b[1;31mNameError\u001b[0m                                 Traceback (most recent call last)",
      "\u001b[1;32m<ipython-input-108-45dc5eaeb83d>\u001b[0m in \u001b[0;36m<module>\u001b[1;34m\u001b[0m\n\u001b[0;32m      3\u001b[0m \u001b[1;31m# Train a pool of 10 classifiers\u001b[0m\u001b[1;33m\u001b[0m\u001b[1;33m\u001b[0m\u001b[0m\n\u001b[0;32m      4\u001b[0m \u001b[0mpool_classifiers\u001b[0m \u001b[1;33m=\u001b[0m \u001b[0mRandomForestClassifier\u001b[0m\u001b[1;33m(\u001b[0m\u001b[0mn_estimators\u001b[0m\u001b[1;33m=\u001b[0m\u001b[1;36m10\u001b[0m\u001b[1;33m)\u001b[0m\u001b[1;33m\u001b[0m\u001b[0m\n\u001b[1;32m----> 5\u001b[1;33m \u001b[0mpool_classifiers\u001b[0m\u001b[1;33m.\u001b[0m\u001b[0mfit\u001b[0m\u001b[1;33m(\u001b[0m\u001b[0mX_train\u001b[0m\u001b[1;33m,\u001b[0m \u001b[0my_train\u001b[0m\u001b[1;33m)\u001b[0m\u001b[1;33m\u001b[0m\u001b[0m\n\u001b[0m\u001b[0;32m      6\u001b[0m \u001b[1;33m\u001b[0m\u001b[0m\n\u001b[0;32m      7\u001b[0m \u001b[1;31m# Initialize the DES model\u001b[0m\u001b[1;33m\u001b[0m\u001b[1;33m\u001b[0m\u001b[0m\n",
      "\u001b[1;31mNameError\u001b[0m: name 'X_train' is not defined"
     ]
    }
   ],
   "source": []
  },
  {
   "cell_type": "code",
   "execution_count": 110,
   "id": "8539d6cb",
   "metadata": {},
   "outputs": [],
   "source": [
    "from deslib.des.probabilistic import DESKL"
   ]
  },
  {
   "cell_type": "code",
   "execution_count": 111,
   "id": "3e90a233",
   "metadata": {},
   "outputs": [
    {
     "ename": "TypeError",
     "evalue": "'KNeighborsClassifier' object is not iterable",
     "output_type": "error",
     "traceback": [
      "\u001b[1;31m---------------------------------------------------------------------------\u001b[0m",
      "\u001b[1;31mTypeError\u001b[0m                                 Traceback (most recent call last)",
      "\u001b[1;32m<ipython-input-111-d9dab3e32a90>\u001b[0m in \u001b[0;36m<module>\u001b[1;34m\u001b[0m\n\u001b[0;32m      5\u001b[0m \u001b[1;33m\u001b[0m\u001b[0m\n\u001b[0;32m      6\u001b[0m \u001b[1;31m# Preprocess the Dynamic Selection dataset (DSEL)\u001b[0m\u001b[1;33m\u001b[0m\u001b[1;33m\u001b[0m\u001b[0m\n\u001b[1;32m----> 7\u001b[1;33m \u001b[0mknorae\u001b[0m\u001b[1;33m.\u001b[0m\u001b[0mfit\u001b[0m\u001b[1;33m(\u001b[0m\u001b[0mx_train\u001b[0m\u001b[1;33m,\u001b[0m \u001b[0my_train\u001b[0m\u001b[1;33m)\u001b[0m\u001b[1;33m\u001b[0m\u001b[0m\n\u001b[0m\u001b[0;32m      8\u001b[0m \u001b[1;33m\u001b[0m\u001b[0m\n\u001b[0;32m      9\u001b[0m \u001b[1;31m# Predict new examples:\u001b[0m\u001b[1;33m\u001b[0m\u001b[1;33m\u001b[0m\u001b[0m\n",
      "\u001b[1;32mc:\\users\\sony\\appdata\\local\\programs\\python\\python36\\lib\\site-packages\\deslib\\base.py\u001b[0m in \u001b[0;36mfit\u001b[1;34m(self, X, y)\u001b[0m\n\u001b[0;32m    225\u001b[0m \u001b[1;33m\u001b[0m\u001b[0m\n\u001b[0;32m    226\u001b[0m         \u001b[1;32melse\u001b[0m\u001b[1;33m:\u001b[0m\u001b[1;33m\u001b[0m\u001b[0m\n\u001b[1;32m--> 227\u001b[1;33m             \u001b[0mself\u001b[0m\u001b[1;33m.\u001b[0m\u001b[0m_check_base_classifier_fitted\u001b[0m\u001b[1;33m(\u001b[0m\u001b[1;33m)\u001b[0m\u001b[1;33m\u001b[0m\u001b[0m\n\u001b[0m\u001b[0;32m    228\u001b[0m             \u001b[0mself\u001b[0m\u001b[1;33m.\u001b[0m\u001b[0mpool_classifiers_\u001b[0m \u001b[1;33m=\u001b[0m \u001b[0mself\u001b[0m\u001b[1;33m.\u001b[0m\u001b[0mpool_classifiers\u001b[0m\u001b[1;33m\u001b[0m\u001b[0m\n\u001b[0;32m    229\u001b[0m             \u001b[0mX_dsel\u001b[0m \u001b[1;33m=\u001b[0m \u001b[0mX\u001b[0m\u001b[1;33m\u001b[0m\u001b[0m\n",
      "\u001b[1;32mc:\\users\\sony\\appdata\\local\\programs\\python\\python36\\lib\\site-packages\\deslib\\base.py\u001b[0m in \u001b[0;36m_check_base_classifier_fitted\u001b[1;34m(self)\u001b[0m\n\u001b[0;32m    851\u001b[0m         \u001b[0mNotFittedError\u001b[0m\u001b[1;33m:\u001b[0m \u001b[0mIf\u001b[0m \u001b[0many\u001b[0m \u001b[0mof\u001b[0m \u001b[0mthe\u001b[0m \u001b[0mbase\u001b[0m \u001b[0mclassifiers\u001b[0m \u001b[1;32mis\u001b[0m \u001b[1;32mnot\u001b[0m \u001b[0myet\u001b[0m \u001b[0mfitted\u001b[0m\u001b[1;33m.\u001b[0m\u001b[1;33m\u001b[0m\u001b[0m\n\u001b[0;32m    852\u001b[0m         \"\"\"\n\u001b[1;32m--> 853\u001b[1;33m         \u001b[1;32mfor\u001b[0m \u001b[0mclf\u001b[0m \u001b[1;32min\u001b[0m \u001b[0mself\u001b[0m\u001b[1;33m.\u001b[0m\u001b[0mpool_classifiers\u001b[0m\u001b[1;33m:\u001b[0m\u001b[1;33m\u001b[0m\u001b[0m\n\u001b[0m\u001b[0;32m    854\u001b[0m             \u001b[0mcheck_is_fitted\u001b[0m\u001b[1;33m(\u001b[0m\u001b[0mclf\u001b[0m\u001b[1;33m,\u001b[0m \u001b[1;34m\"classes_\"\u001b[0m\u001b[1;33m)\u001b[0m\u001b[1;33m\u001b[0m\u001b[0m\n",
      "\u001b[1;31mTypeError\u001b[0m: 'KNeighborsClassifier' object is not iterable"
     ]
    }
   ],
   "source": []
  },
  {
   "cell_type": "code",
   "execution_count": null,
   "id": "87ffc6d7",
   "metadata": {},
   "outputs": [],
   "source": []
  }
 ],
 "metadata": {
  "kernelspec": {
   "display_name": "Python 3",
   "language": "python",
   "name": "python3"
  },
  "language_info": {
   "codemirror_mode": {
    "name": "ipython",
    "version": 3
   },
   "file_extension": ".py",
   "mimetype": "text/x-python",
   "name": "python",
   "nbconvert_exporter": "python",
   "pygments_lexer": "ipython3",
   "version": "3.6.5"
  }
 },
 "nbformat": 4,
 "nbformat_minor": 5
}
